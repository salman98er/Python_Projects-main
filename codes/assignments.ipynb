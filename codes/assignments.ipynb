{
 "cells": [
  {
   "cell_type": "code",
   "execution_count": 128,
   "metadata": {},
   "outputs": [],
   "source": [
    "def vowe(s):\n",
    "    v = s\n",
    "    for char in '!@#$%^&*':\n",
    "        v=v.replace(char,'_')   \n",
    "    return v"
   ]
  },
  {
   "cell_type": "code",
   "execution_count": 132,
   "metadata": {},
   "outputs": [
    {
     "name": "stdout",
     "output_type": "stream",
     "text": [
      "there ____ is an ____apple\n"
     ]
    }
   ],
   "source": [
    "print(vowe('there !@#$ is an %^&*apple'))"
   ]
  },
  {
   "cell_type": "code",
   "execution_count": 118,
   "metadata": {},
   "outputs": [],
   "source": [
    "def commma(s):\n",
    "    v = s\n",
    "    v = v.replace('a',' ')\n",
    "    return v"
   ]
  },
  {
   "cell_type": "code",
   "execution_count": 131,
   "metadata": {},
   "outputs": [
    {
     "name": "stdout",
     "output_type": "stream",
     "text": [
      " SA\n"
     ]
    }
   ],
   "source": [
    "print(commma('aSA'))"
   ]
  },
  {
   "cell_type": "code",
   "execution_count": 123,
   "metadata": {},
   "outputs": [],
   "source": [
    "def ssp(d):\n",
    "    c = d\n",
    "    for char in'!@#$%^&*':\n",
    "         c= c.replace(char,' _')\n",
    "    return c"
   ]
  },
  {
   "cell_type": "code",
   "execution_count": 125,
   "metadata": {},
   "outputs": [
    {
     "name": "stdout",
     "output_type": "stream",
     "text": [
      "there _ _ _ _ _ _ _\n"
     ]
    }
   ],
   "source": [
    "print(ssp('there!@#$^&*'))"
   ]
  },
  {
   "cell_type": "code",
   "execution_count": 130,
   "metadata": {},
   "outputs": [],
   "source": [
    "def vor(d):\n",
    "    s=d\n",
    "    for char in 'aeiouAEUIO':\n",
    "        s = s.replace(char,' _')\n",
    "    return s"
   ]
  },
  {
   "cell_type": "code",
   "execution_count": 133,
   "metadata": {},
   "outputs": [
    {
     "name": "stdout",
     "output_type": "stream",
     "text": [
      "th _r _  _s  _n  _ _ _ _ _ _t _ _SD\n"
     ]
    }
   ],
   "source": [
    "print(vor('there is an auioautoASD'))"
   ]
  },
  {
   "cell_type": "code",
   "execution_count": null,
   "metadata": {},
   "outputs": [],
   "source": []
  },
  {
   "cell_type": "code",
   "execution_count": 7,
   "metadata": {},
   "outputs": [
    {
     "name": "stdout",
     "output_type": "stream",
     "text": [
      "None\n"
     ]
    }
   ],
   "source": [
    "from string import ascii_letters\n",
    "def nun(d):\n",
    "     s = d\n",
    "     if s.isnumeric():\n",
    "          return int(s)\n",
    "     elif s.isalnum():\n",
    "          o = ''\n",
    "          for n in ascii_letters:\n",
    "               s = s.replace(n,'')\n",
    "          # todo same for special char\n",
    "          if s != '':\n",
    "               return int(s)\n",
    "     \n",
    "print(nun(input('enter the number')))"
   ]
  },
  {
   "cell_type": "code",
   "execution_count": 7,
   "metadata": {},
   "outputs": [],
   "source": [
    "def surnames(f):\n",
    "    d = f \n",
    "    d =[ i.split()[-1] for i in d]\n",
    "    return d\n"
   ]
  },
  {
   "cell_type": "code",
   "execution_count": 8,
   "metadata": {},
   "outputs": [
    {
     "data": {
      "text/plain": [
       "['carry', 'wegan', 'petterson']"
      ]
     },
     "execution_count": 8,
     "metadata": {},
     "output_type": "execute_result"
    }
   ],
   "source": [
    "f = [\"alex carry\",\"von wegan\",\"keri petterson\"]\n",
    "surnames(f)"
   ]
  },
  {
   "cell_type": "code",
   "execution_count": 28,
   "metadata": {},
   "outputs": [],
   "source": [
    "def sort(v):\n",
    "    p = v\n",
    "    p =  v.sort()\n",
    "    return v"
   ]
  },
  {
   "cell_type": "code",
   "execution_count": 29,
   "metadata": {},
   "outputs": [
    {
     "data": {
      "text/plain": [
       "[1, 3, 5, 22, 44]"
      ]
     },
     "execution_count": 29,
     "metadata": {},
     "output_type": "execute_result"
    }
   ],
   "source": [
    "v = [22,1,3,44,5]\n",
    "sort(v)"
   ]
  },
  {
   "cell_type": "code",
   "execution_count": 31,
   "metadata": {},
   "outputs": [
    {
     "ename": "AttributeError",
     "evalue": "'NoneType' object has no attribute 'sort'",
     "output_type": "error",
     "traceback": [
      "\u001b[1;31m---------------------------------------------------------------------------\u001b[0m",
      "\u001b[1;31mAttributeError\u001b[0m                            Traceback (most recent call last)",
      "Input \u001b[1;32mIn [31]\u001b[0m, in \u001b[0;36m<module>\u001b[1;34m\u001b[0m\n\u001b[0;32m      3\u001b[0m     a \u001b[39m=\u001b[39m \u001b[39minput\u001b[39m(\u001b[39mf\u001b[39m\u001b[39m\"\u001b[39m\u001b[39menter \u001b[39m\u001b[39m{\u001b[39;00mi\u001b[39m+\u001b[39m\u001b[39m1\u001b[39m\u001b[39m}\u001b[39;00m\u001b[39m the nos.\u001b[39m\u001b[39m\"\u001b[39m)\n\u001b[0;32m      4\u001b[0m v \u001b[39m=\u001b[39m v\u001b[39m.\u001b[39mappend(a)\n\u001b[1;32m----> 5\u001b[0m sort(v)\n",
      "\u001b[1;32mc:\\Users\\Mohd Salman\\Desktop\\Python_Projects-main\\codes\\assignments.ipynb Cell 14'\u001b[0m in \u001b[0;36msort\u001b[1;34m(v)\u001b[0m\n\u001b[0;32m      <a href='vscode-notebook-cell:/c%3A/Users/Mohd%20Salman/Desktop/Python_Projects-main/codes/assignments.ipynb#ch0000013?line=0'>1</a>\u001b[0m \u001b[39mdef\u001b[39;00m \u001b[39msort\u001b[39m(v):\n\u001b[0;32m      <a href='vscode-notebook-cell:/c%3A/Users/Mohd%20Salman/Desktop/Python_Projects-main/codes/assignments.ipynb#ch0000013?line=1'>2</a>\u001b[0m     p \u001b[39m=\u001b[39m v\n\u001b[1;32m----> <a href='vscode-notebook-cell:/c%3A/Users/Mohd%20Salman/Desktop/Python_Projects-main/codes/assignments.ipynb#ch0000013?line=2'>3</a>\u001b[0m     p \u001b[39m=\u001b[39m  v\u001b[39m.\u001b[39;49msort()\n\u001b[0;32m      <a href='vscode-notebook-cell:/c%3A/Users/Mohd%20Salman/Desktop/Python_Projects-main/codes/assignments.ipynb#ch0000013?line=3'>4</a>\u001b[0m     \u001b[39mreturn\u001b[39;00m v\n",
      "\u001b[1;31mAttributeError\u001b[0m: 'NoneType' object has no attribute 'sort'"
     ]
    }
   ],
   "source": [
    "v = []\n",
    "for i in range(5):\n",
    "    a = input(f\"enter {i+1} the nos.\")\n",
    "v = v.append(a)\n",
    "sort(v)"
   ]
  },
  {
   "cell_type": "code",
   "execution_count": 33,
   "metadata": {},
   "outputs": [
    {
     "name": "stdout",
     "output_type": "stream",
     "text": [
      "[1, 19, 22, 32, 33, 66]\n"
     ]
    }
   ],
   "source": [
    "g = [22,33,32,66,19,1]\n",
    "g.sort()\n",
    "print(g)\n"
   ]
  },
  {
   "cell_type": "code",
   "execution_count": 34,
   "metadata": {},
   "outputs": [
    {
     "data": {
      "text/plain": [
       "1"
      ]
     },
     "execution_count": 34,
     "metadata": {},
     "output_type": "execute_result"
    }
   ],
   "source": [
    "min(g)"
   ]
  },
  {
   "cell_type": "code",
   "execution_count": 35,
   "metadata": {},
   "outputs": [
    {
     "data": {
      "text/plain": [
       "66"
      ]
     },
     "execution_count": 35,
     "metadata": {},
     "output_type": "execute_result"
    }
   ],
   "source": [
    "max(g)"
   ]
  },
  {
   "cell_type": "code",
   "execution_count": 36,
   "metadata": {},
   "outputs": [
    {
     "data": {
      "text/plain": [
       "6"
      ]
     },
     "execution_count": 36,
     "metadata": {},
     "output_type": "execute_result"
    }
   ],
   "source": [
    "len(g)"
   ]
  },
  {
   "cell_type": "code",
   "execution_count": 41,
   "metadata": {},
   "outputs": [
    {
     "name": "stdout",
     "output_type": "stream",
     "text": [
      "the no. is present \n"
     ]
    }
   ],
   "source": [
    "if 66 in g:\n",
    "    print('the no. is present ')\n",
    "else:\n",
    "    print('the no. is not present')"
   ]
  },
  {
   "cell_type": "code",
   "execution_count": null,
   "metadata": {},
   "outputs": [],
   "source": [
    "g[::-1]"
   ]
  },
  {
   "cell_type": "code",
   "execution_count": 42,
   "metadata": {},
   "outputs": [
    {
     "data": {
      "text/plain": [
       "[1, 33, 22, 66]"
      ]
     },
     "execution_count": 42,
     "metadata": {},
     "output_type": "execute_result"
    }
   ],
   "source": [
    "g"
   ]
  },
  {
   "cell_type": "code",
   "execution_count": 48,
   "metadata": {},
   "outputs": [
    {
     "data": {
      "text/plain": [
       "10"
      ]
     },
     "execution_count": 48,
     "metadata": {},
     "output_type": "execute_result"
    }
   ],
   "source": [
    "t= [11,22,11,44,33,22,55,55,44,33]\n",
    "len(t)"
   ]
  },
  {
   "cell_type": "code",
   "execution_count": 56,
   "metadata": {},
   "outputs": [
    {
     "data": {
      "text/plain": [
       "2"
      ]
     },
     "execution_count": 56,
     "metadata": {},
     "output_type": "execute_result"
    }
   ],
   "source": [
    "x = 22\n",
    "t.count(x)"
   ]
  },
  {
   "cell_type": "code",
   "execution_count": 60,
   "metadata": {},
   "outputs": [],
   "source": [
    "r = sum(t)\n",
    "avg = r/len(t) "
   ]
  },
  {
   "cell_type": "code",
   "execution_count": 62,
   "metadata": {},
   "outputs": [
    {
     "name": "stdout",
     "output_type": "stream",
     "text": [
      "330\n"
     ]
    },
    {
     "data": {
      "text/plain": [
       "33.0"
      ]
     },
     "execution_count": 62,
     "metadata": {},
     "output_type": "execute_result"
    }
   ],
   "source": [
    "print(r)\n",
    "avg"
   ]
  },
  {
   "cell_type": "code",
   "execution_count": 64,
   "metadata": {},
   "outputs": [],
   "source": [
    "import math"
   ]
  },
  {
   "cell_type": "code",
   "execution_count": 1,
   "metadata": {},
   "outputs": [
    {
     "name": "stdout",
     "output_type": "stream",
     "text": [
      "total odd numbers =  1\n",
      "total even numbers =  1\n",
      "[22]\n",
      "total odd numbers =  2\n",
      "total even numbers =  1\n",
      "[22, 44]\n",
      "total even numbers =  1\n",
      "[22, 44, 66]\n",
      "total even numbers =  1\n",
      "[22, 44, 66, 22]\n",
      "total odd numbers =  3\n",
      "total odd numbers =  4\n",
      "total even numbers =  1\n",
      "[22, 44, 66, 22, 100]\n",
      "4\n"
     ]
    }
   ],
   "source": [
    "s = 0\n",
    "d = 0\n",
    "h = []\n",
    "u = []\n",
    "t = [11,22,3,44,66,22,33,99,100]\n",
    "for i in t:\n",
    "    if i%2 == 0:\n",
    "        s = +1\n",
    "        print('total even numbers = ',s)\n",
    "        h.append(i)\n",
    "        print(h)\n",
    "    else:\n",
    "        d = d+1\n",
    "        print('total odd numbers = ',d)\n",
    "        u.append(i)\n",
    "print(d)"
   ]
  },
  {
   "cell_type": "code",
   "execution_count": 2,
   "metadata": {},
   "outputs": [
    {
     "name": "stdout",
     "output_type": "stream",
     "text": [
      "[1, 1, 2, 22, 33]\n"
     ]
    }
   ],
   "source": [
    "size = 5\n",
    "x = [int(input(\">>\")) for i in range(size)]\n",
    "x.sort()\n",
    "print(x)"
   ]
  },
  {
   "cell_type": "code",
   "execution_count": 3,
   "metadata": {},
   "outputs": [
    {
     "name": "stdout",
     "output_type": "stream",
     "text": [
      "[12, 56, 44]\n",
      "[23, 3, 67, 77]\n"
     ]
    }
   ],
   "source": [
    "x = [23,12,3,56,44,67,77]\n",
    "even_x = [i for i in x if i%2==0]\n",
    "odd_x = [i for i in x if i%2!=0]\n",
    "print(even_x)\n",
    "print(odd_x)"
   ]
  },
  {
   "cell_type": "code",
   "execution_count": 2,
   "metadata": {},
   "outputs": [
    {
     "name": "stdout",
     "output_type": "stream",
     "text": [
      "[12, 23, 5]\n",
      "[-45, -6]\n"
     ]
    }
   ],
   "source": [
    "d = [12,23,-45,-6,5]\n",
    "positive_d = [i for i in d if i>0]\n",
    "negative_x =  [i for i in d if i<0]\n",
    "print(positive_d)\n",
    "print(negative_x)"
   ]
  },
  {
   "cell_type": "code",
   "execution_count": null,
   "metadata": {},
   "outputs": [],
   "source": []
  }
 ],
 "metadata": {
  "interpreter": {
   "hash": "3b46d90f51efc9954aac783a2eeafaa32071d5f42b6ad50b655f1bb58039c82c"
  },
  "kernelspec": {
   "display_name": "Python 3.9.5 ('base')",
   "language": "python",
   "name": "python3"
  },
  "language_info": {
   "codemirror_mode": {
    "name": "ipython",
    "version": 3
   },
   "file_extension": ".py",
   "mimetype": "text/x-python",
   "name": "python",
   "nbconvert_exporter": "python",
   "pygments_lexer": "ipython3",
   "version": "3.9.5"
  },
  "orig_nbformat": 4
 },
 "nbformat": 4,
 "nbformat_minor": 2
}
