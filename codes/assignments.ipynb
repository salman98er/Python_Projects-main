{
 "cells": [
  {
   "cell_type": "code",
   "execution_count": 128,
   "metadata": {},
   "outputs": [],
   "source": [
    "def vowe(s):\n",
    "    v = s\n",
    "    for char in '!@#$%^&*':\n",
    "        v=v.replace(char,'_')   \n",
    "    return v"
   ]
  },
  {
   "cell_type": "code",
   "execution_count": 132,
   "metadata": {},
   "outputs": [
    {
     "name": "stdout",
     "output_type": "stream",
     "text": [
      "there ____ is an ____apple\n"
     ]
    }
   ],
   "source": [
    "print(vowe('there !@#$ is an %^&*apple'))"
   ]
  },
  {
   "cell_type": "code",
   "execution_count": 118,
   "metadata": {},
   "outputs": [],
   "source": [
    "def commma(s):\n",
    "    v = s\n",
    "    v = v.replace('a',' ')\n",
    "    return v"
   ]
  },
  {
   "cell_type": "code",
   "execution_count": 131,
   "metadata": {},
   "outputs": [
    {
     "name": "stdout",
     "output_type": "stream",
     "text": [
      " SA\n"
     ]
    }
   ],
   "source": [
    "print(commma('aSA'))"
   ]
  },
  {
   "cell_type": "code",
   "execution_count": 123,
   "metadata": {},
   "outputs": [],
   "source": [
    "def ssp(d):\n",
    "    c = d\n",
    "    for char in'!@#$%^&*':\n",
    "         c= c.replace(char,' _')\n",
    "    return c"
   ]
  },
  {
   "cell_type": "code",
   "execution_count": 125,
   "metadata": {},
   "outputs": [
    {
     "name": "stdout",
     "output_type": "stream",
     "text": [
      "there _ _ _ _ _ _ _\n"
     ]
    }
   ],
   "source": [
    "print(ssp('there!@#$^&*'))"
   ]
  },
  {
   "cell_type": "code",
   "execution_count": 130,
   "metadata": {},
   "outputs": [],
   "source": [
    "def vor(d):\n",
    "    s=d\n",
    "    for char in 'aeiouAEUIO':\n",
    "        s = s.replace(char,' _')\n",
    "    return s"
   ]
  },
  {
   "cell_type": "code",
   "execution_count": 133,
   "metadata": {},
   "outputs": [
    {
     "name": "stdout",
     "output_type": "stream",
     "text": [
      "th _r _  _s  _n  _ _ _ _ _ _t _ _SD\n"
     ]
    }
   ],
   "source": [
    "print(vor('there is an auioautoASD'))"
   ]
  },
  {
   "cell_type": "code",
   "execution_count": null,
   "metadata": {},
   "outputs": [],
   "source": []
  },
  {
   "cell_type": "code",
   "execution_count": 4,
   "metadata": {},
   "outputs": [
    {
     "ename": "ValueError",
     "evalue": "invalid literal for int() with base 10: '2w2'",
     "output_type": "error",
     "traceback": [
      "\u001b[1;31m---------------------------------------------------------------------------\u001b[0m",
      "\u001b[1;31mValueError\u001b[0m                                Traceback (most recent call last)",
      "\u001b[1;32mc:\\Users\\Mohd Salman\\Desktop\\Python_Projects-main\\codes\\assignments.ipynb Cell 10'\u001b[0m in \u001b[0;36m<module>\u001b[1;34m\u001b[0m\n\u001b[0;32m     <a href='vscode-notebook-cell:/c%3A/Users/Mohd%20Salman/Desktop/Python_Projects-main/codes/assignments.ipynb#ch0000009?line=12'>13</a>\u001b[0m                               s \u001b[39m=\u001b[39m \u001b[39mint\u001b[39m(s)\n\u001b[0;32m     <a href='vscode-notebook-cell:/c%3A/Users/Mohd%20Salman/Desktop/Python_Projects-main/codes/assignments.ipynb#ch0000009?line=13'>14</a>\u001b[0m          \u001b[39mreturn\u001b[39;00m s\n\u001b[1;32m---> <a href='vscode-notebook-cell:/c%3A/Users/Mohd%20Salman/Desktop/Python_Projects-main/codes/assignments.ipynb#ch0000009?line=17'>18</a>\u001b[0m \u001b[39mprint\u001b[39m(nun(\u001b[39minput\u001b[39;49m(\u001b[39m'\u001b[39;49m\u001b[39menter the number\u001b[39;49m\u001b[39m'\u001b[39;49m)))\n",
      "\u001b[1;32mc:\\Users\\Mohd Salman\\Desktop\\Python_Projects-main\\codes\\assignments.ipynb Cell 10'\u001b[0m in \u001b[0;36mnun\u001b[1;34m(d)\u001b[0m\n\u001b[0;32m     <a href='vscode-notebook-cell:/c%3A/Users/Mohd%20Salman/Desktop/Python_Projects-main/codes/assignments.ipynb#ch0000009?line=10'>11</a>\u001b[0m                 s \u001b[39m+\u001b[39m\u001b[39m=\u001b[39m char \n\u001b[0;32m     <a href='vscode-notebook-cell:/c%3A/Users/Mohd%20Salman/Desktop/Python_Projects-main/codes/assignments.ipynb#ch0000009?line=11'>12</a>\u001b[0m                 \u001b[39mif\u001b[39;00m s:                  \n\u001b[1;32m---> <a href='vscode-notebook-cell:/c%3A/Users/Mohd%20Salman/Desktop/Python_Projects-main/codes/assignments.ipynb#ch0000009?line=12'>13</a>\u001b[0m                      s \u001b[39m=\u001b[39m \u001b[39mint\u001b[39;49m(s)\n\u001b[0;32m     <a href='vscode-notebook-cell:/c%3A/Users/Mohd%20Salman/Desktop/Python_Projects-main/codes/assignments.ipynb#ch0000009?line=13'>14</a>\u001b[0m \u001b[39mreturn\u001b[39;00m s\n",
      "\u001b[1;31mValueError\u001b[0m: invalid literal for int() with base 10: '2w2'"
     ]
    }
   ],
   "source": [
    "def nun(d):\n",
    "    s = d\n",
    "    if s.isnumeric():\n",
    "         s= int(s)\n",
    "         return s\n",
    "    elif s.isalnum():\n",
    "         for char in s:\n",
    "             if char.isalpha():\n",
    "                  s = ''\n",
    "             if char.isnumeric():\n",
    "                         s += char \n",
    "                         if s:                  \n",
    "                              s = int(s)\n",
    "         return s\n",
    "\n",
    "            \n",
    "        \n",
    "print(nun(input('enter the number')))"
   ]
  },
  {
   "cell_type": "code",
   "execution_count": 7,
   "metadata": {},
   "outputs": [],
   "source": [
    "def surnames(f):\n",
    "    d = f \n",
    "    d =[ i.split()[-1] for i in d]\n",
    "    return d\n"
   ]
  },
  {
   "cell_type": "code",
   "execution_count": 8,
   "metadata": {},
   "outputs": [
    {
     "data": {
      "text/plain": [
       "['carry', 'wegan', 'petterson']"
      ]
     },
     "execution_count": 8,
     "metadata": {},
     "output_type": "execute_result"
    }
   ],
   "source": [
    "f = [\"alex carry\",\"von wegan\",\"keri petterson\"]\n",
    "surnames(f)"
   ]
  },
  {
   "cell_type": "code",
   "execution_count": null,
   "metadata": {},
   "outputs": [],
   "source": []
  }
 ],
 "metadata": {
  "interpreter": {
   "hash": "3b46d90f51efc9954aac783a2eeafaa32071d5f42b6ad50b655f1bb58039c82c"
  },
  "kernelspec": {
   "display_name": "Python 3.9.5 ('base')",
   "language": "python",
   "name": "python3"
  },
  "language_info": {
   "codemirror_mode": {
    "name": "ipython",
    "version": 3
   },
   "file_extension": ".py",
   "mimetype": "text/x-python",
   "name": "python",
   "nbconvert_exporter": "python",
   "pygments_lexer": "ipython3",
   "version": "3.9.5"
  },
  "orig_nbformat": 4
 },
 "nbformat": 4,
 "nbformat_minor": 2
}
