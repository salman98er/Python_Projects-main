{
 "cells": [
  {
   "cell_type": "code",
   "execution_count": null,
   "metadata": {},
   "outputs": [],
   "source": [
    "import cv2             #computer vision"
   ]
  },
  {
   "cell_type": "code",
   "execution_count": null,
   "metadata": {},
   "outputs": [],
   "source": [
    "import numpy as np"
   ]
  },
  {
   "cell_type": "code",
   "execution_count": null,
   "metadata": {},
   "outputs": [],
   "source": [
    "im1 = cv2.imread('uu.jpg')\n",
    "print(im1.shape)  #width,height,no. of colors"
   ]
  },
  {
   "cell_type": "code",
   "execution_count": null,
   "metadata": {},
   "outputs": [],
   "source": [
    "cv2.imshow('image window',im1)\n",
    "cv2.waitKey(0)\n",
    "cv2.destroyAllWindows()\n"
   ]
  },
  {
   "cell_type": "code",
   "execution_count": null,
   "metadata": {},
   "outputs": [],
   "source": [
    "im2 = cv2.imread('phottt.png')\n",
    "im2.shape"
   ]
  },
  {
   "cell_type": "code",
   "execution_count": null,
   "metadata": {},
   "outputs": [],
   "source": [
    "gray_img2 = cv2.cvtColor(im1,cv2.COLOR_BGR2GRAY)\n",
    "cv2.imshow('gray',gray_img2)\n",
    "cv2.waitKey(0)\n",
    "cv2.destroyAllWindows()"
   ]
  },
  {
   "cell_type": "code",
   "execution_count": null,
   "metadata": {},
   "outputs": [],
   "source": [
    "halved_im2 = cv2.resize(im2,(0,0),fx=0.15,fy=0.15) #scaling and not img size\n",
    "cv2.imshow('halved',halved_im2)\n",
    "cv2.waitKey(0)\n",
    "cv2.destroyAllWindows()"
   ]
  },
  {
   "cell_type": "code",
   "execution_count": null,
   "metadata": {},
   "outputs": [],
   "source": [
    "cv2.resize(im2,(200,200)).shape #img size not scaling "
   ]
  },
  {
   "cell_type": "code",
   "execution_count": null,
   "metadata": {},
   "outputs": [],
   "source": [
    "cam = cv2.VideoCapture(0)\n",
    "while True:\n",
    "    status, frame= cam.read()\n",
    "    cv2.imshow('frame', frame)\n",
    "    if cv2.waitKey(1) == 27:\n",
    "        break\n",
    "cam.release()\n",
    "cv2.destroyAllWindows()"
   ]
  },
  {
   "cell_type": "code",
   "execution_count": null,
   "metadata": {},
   "outputs": [],
   "source": [
    "cam = cv2.VideoCapture(r\"C:\\Users\\Mohd Salman\\Downloads\\Video\\Clock Countdown Ticking Midnight 20 seconds with black background - Free HD Video Clips & Stock Video Footage at Videezy!.mp4\")\n",
    "while True:\n",
    "    status, frame = cam.read()\n",
    "    if not status:\n",
    "        break\n",
    "    cv2.imshow('frame', frame)\n",
    "    if cv2.waitKey(1) == 27:\n",
    "        break\n",
    "cam.release()\n",
    "cv2.destroyAllWindows()"
   ]
  },
  {
   "cell_type": "code",
   "execution_count": null,
   "metadata": {},
   "outputs": [],
   "source": [
    "  cam = cv2.VideoCapture(r\"E:\\VIDEOS\\The Amazing Spider Man 2 (2014) 4499(1).mkv\")\n",
    "while True:\n",
    "    status, frame = cam.read()\n",
    "    h,w,_ = frame.shape\n",
    "    center = (w//2, h//2)\n",
    "    cv2.line(frame,(0,100),(w,100),(255,255,255),5)\n",
    "    cv2.circle(frame,center, 200, (0,0,255), -1)\n",
    "    cv2.imshow('frame', frame)\n",
    "    if cv2.waitKey(1) == 27:\n",
    "        break\n",
    "cam.release()\n",
    "cv2.destroyAllWindows()"
   ]
  },
  {
   "cell_type": "code",
   "execution_count": null,
   "metadata": {},
   "outputs": [],
   "source": [
    "cam = cv2.VideoCapture(r'E:\\VIDEOS\\The Amazing Spider Man 2 (2014) 4499(1).mkv')\n",
    "while True:\n",
    "    status, frame = cam.read()\n",
    "    h,w,_ = frame.shape\n",
    "    center = (w//2, h//2)\n",
    "    font = cv2.FONT_HERSHEY_DUPLEX\n",
    "    cv2.putText(frame,'Live Cam 0',(10,30), font, 1,(255,255,255),2,cv2.LINE_AA)\n",
    "    cv2.putText(frame,'Python class @ digipodium',(10,h-10), font, .8 ,(255,255,255),1,cv2.LINE_AA)\n",
    "    cv2.imshow('frame', frame)\n",
    "    if cv2.waitKey(1) == 27:\n",
    "        break\n",
    "cam.release()\n",
    "cv2.destroyAllWindows()\n"
   ]
  },
  {
   "cell_type": "code",
   "execution_count": null,
   "metadata": {},
   "outputs": [],
   "source": [
    "cam = cv2.VideoCapture(r'E:\\VIDEOS\\The Amazing Spider Man 2 (2014) 4499(1).mkv')\n",
    "\n",
    "while True:\n",
    "    status, frame = cam.read()\n",
    "    if not status: break\n",
    "    h,w,_ = frame.shape\n",
    "    center = (w//2, h//2)\n",
    "    font = cv2.FONT_HERSHEY_DUPLEX\n",
    "    cv2.putText(frame,'Live Cam 0',(10,30), font, 1,(255,255,255),2,cv2.LINE_AA)\n",
    "    cv2.putText(frame,'Python class @ digipodium',(10,h-10), font, .8 ,(255,255,255),1,cv2.LINE_AA)\n",
    "    cv2.imshow('frame', frame)\n",
    "    if cv2.waitKey(1) == 27:\n",
    "        break\n",
    "cam.release()\n",
    "cv2.destroyAllWindows()"
   ]
  },
  {
   "cell_type": "code",
   "execution_count": 3,
   "metadata": {},
   "outputs": [
    {
     "ename": "NameError",
     "evalue": "name 'np' is not defined",
     "output_type": "error",
     "traceback": [
      "\u001b[1;31m---------------------------------------------------------------------------\u001b[0m",
      "\u001b[1;31mNameError\u001b[0m                                 Traceback (most recent call last)",
      "\u001b[1;32mc:\\Users\\Mohd Salman\\Desktop\\Python_Projects-main\\ui1\\computer vision\\imageprocessing.ipynb Cell 14'\u001b[0m in \u001b[0;36m<cell line: 6>\u001b[1;34m()\u001b[0m\n\u001b[0;32m      <a href='vscode-notebook-cell:/c%3A/Users/Mohd%20Salman/Desktop/Python_Projects-main/ui1/computer%20vision/imageprocessing.ipynb#ch0000013?line=3'>4</a>\u001b[0m         cv2\u001b[39m.\u001b[39mcircle(img,(x,y),\u001b[39m100\u001b[39m,(\u001b[39m255\u001b[39m,\u001b[39m0\u001b[39m,\u001b[39m0\u001b[39m),\u001b[39m-\u001b[39m\u001b[39m1\u001b[39m)\n\u001b[0;32m      <a href='vscode-notebook-cell:/c%3A/Users/Mohd%20Salman/Desktop/Python_Projects-main/ui1/computer%20vision/imageprocessing.ipynb#ch0000013?line=4'>5</a>\u001b[0m \u001b[39m# Create a black image, a window and bind the function to window\u001b[39;00m\n\u001b[1;32m----> <a href='vscode-notebook-cell:/c%3A/Users/Mohd%20Salman/Desktop/Python_Projects-main/ui1/computer%20vision/imageprocessing.ipynb#ch0000013?line=5'>6</a>\u001b[0m img \u001b[39m=\u001b[39m np\u001b[39m.\u001b[39mzeros((\u001b[39m512\u001b[39m,\u001b[39m512\u001b[39m,\u001b[39m3\u001b[39m), np\u001b[39m.\u001b[39muint8)\n\u001b[0;32m      <a href='vscode-notebook-cell:/c%3A/Users/Mohd%20Salman/Desktop/Python_Projects-main/ui1/computer%20vision/imageprocessing.ipynb#ch0000013?line=7'>8</a>\u001b[0m cv2\u001b[39m.\u001b[39mnamedWindow(\u001b[39m'\u001b[39m\u001b[39mimage\u001b[39m\u001b[39m'\u001b[39m)\n\u001b[0;32m      <a href='vscode-notebook-cell:/c%3A/Users/Mohd%20Salman/Desktop/Python_Projects-main/ui1/computer%20vision/imageprocessing.ipynb#ch0000013?line=8'>9</a>\u001b[0m cv2\u001b[39m.\u001b[39msetMouseCallback(\u001b[39m'\u001b[39m\u001b[39mimage\u001b[39m\u001b[39m'\u001b[39m,draw_circle)\n",
      "\u001b[1;31mNameError\u001b[0m: name 'np' is not defined"
     ]
    }
   ],
   "source": [
    "# mouse callback function\n",
    "def draw_circle(event,x,y,flags,param):\n",
    "    if event == cv2.EVENT_LBUTTONDBLCLK:\n",
    "        cv2.circle(img,(x,y),100,(255,0,0),-1)\n",
    "# Create a black image, a window and bind the function to window\n",
    "img = np.zeros((512,512,3), np.uint8)\n",
    "\n",
    "cv2.namedWindow('image')\n",
    "cv2.setMouseCallback('image',draw_circle)\n",
    "while(1):\n",
    "    cv2.imshow('image',img)\n",
    "    if cv2.waitKey(20) & 0xFF == 27:\n",
    "        break\n",
    "cv2.destroyAllWindows()"
   ]
  },
  {
   "cell_type": "code",
   "execution_count": null,
   "metadata": {},
   "outputs": [],
   "source": []
  },
  {
   "cell_type": "code",
   "execution_count": null,
   "metadata": {},
   "outputs": [],
   "source": []
  }
 ],
 "metadata": {
  "interpreter": {
   "hash": "ecf5722fdaf1897a315d257d89d94520bfcaa453217d5becf09b39e73618b0de"
  },
  "kernelspec": {
   "display_name": "Python 3.9.5 ('base')",
   "language": "python",
   "name": "python3"
  },
  "language_info": {
   "codemirror_mode": {
    "name": "ipython",
    "version": 3
   },
   "file_extension": ".py",
   "mimetype": "text/x-python",
   "name": "python",
   "nbconvert_exporter": "python",
   "pygments_lexer": "ipython3",
   "version": "3.9.5"
  },
  "orig_nbformat": 4
 },
 "nbformat": 4,
 "nbformat_minor": 2
}
