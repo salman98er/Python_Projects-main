{
 "cells": [
  {
   "cell_type": "code",
   "execution_count": 12,
   "metadata": {},
   "outputs": [],
   "source": [
    "import requests\n",
    "import pandas as pd\n",
    "from bs4 import BeautifulSoup"
   ]
  },
  {
   "cell_type": "code",
   "execution_count": 13,
   "metadata": {},
   "outputs": [],
   "source": [
    "query = 'boat speakers'\n",
    "page = 1\n",
    "datalist = [] # empty"
   ]
  },
  {
   "cell_type": "code",
   "execution_count": 14,
   "metadata": {},
   "outputs": [
    {
     "data": {
      "text/plain": [
       "'https://www.flipkart.com/search?q=boat speakers&page=1'"
      ]
     },
     "execution_count": 14,
     "metadata": {},
     "output_type": "execute_result"
    }
   ],
   "source": [
    "link = f'https://www.flipkart.com/search?q={query}&page={page}'\n",
    "link"
   ]
  },
  {
   "cell_type": "code",
   "execution_count": 15,
   "metadata": {},
   "outputs": [],
   "source": [
    "def getpage(link):\n",
    "    try:\n",
    "        page = requests.get(link)\n",
    "        print('data loaded')\n",
    "        return BeautifulSoup(page.text,'lxml')\n",
    "    except Exception as error:\n",
    "        print('Error',error)"
   ]
  },
  {
   "cell_type": "code",
   "execution_count": 16,
   "metadata": {},
   "outputs": [],
   "source": [
    "def extract(pagedata):\n",
    "    cards =  soup.find_all('div',{'class':'_4ddWXP'})\n",
    "    size = len(cards)\n",
    "    if size > 0: # if products are found\n",
    "        for pr in cards: # pr is single product\n",
    "            name = pr.find('a',{'class':'s1Q9rs'}).text\n",
    "            price = pr.find('div',{'class':'_30jeq3'}).text[1:] # start from 2 char\n",
    "            try: \n",
    "                rating = pr.find('div',{'class':'_3LWZlK'}).text\n",
    "            except:\n",
    "                rating = 0\n",
    "            datalist.append({\n",
    "                'name':name,\n",
    "                'price':price,\n",
    "                'rating':rating\n",
    "            })\n",
    "        return True\n",
    "    else:\n",
    "        print('no product found')\n",
    "        return False"
   ]
  },
  {
   "cell_type": "code",
   "execution_count": 17,
   "metadata": {},
   "outputs": [],
   "source": [
    "def save(filename):\n",
    "    df = pd.DataFrame(datalist)\n",
    "    df.to_csv(f'{filename}.csv')\n",
    "    return df\n",
    "    print('saved')"
   ]
  },
  {
   "cell_type": "code",
   "execution_count": 18,
   "metadata": {},
   "outputs": [
    {
     "name": "stdout",
     "output_type": "stream",
     "text": [
      "extracting data from page : 1\n",
      "data loaded\n",
      "extracting data from page : 2\n",
      "data loaded\n",
      "extracting data from page : 3\n",
      "data loaded\n",
      "extracting data from page : 4\n",
      "data loaded\n",
      "extracting data from page : 5\n",
      "data loaded\n",
      "extracting data from page : 6\n",
      "data loaded\n",
      "extracting data from page : 7\n",
      "data loaded\n",
      "extracting data from page : 8\n",
      "data loaded\n",
      "no product found\n",
      "products extracted\n"
     ]
    }
   ],
   "source": [
    "page = 1\n",
    "query = 'speakers'\n",
    "datalist = [] # empty\n",
    "while True:\n",
    "    link = f'https://www.flipkart.com/search?q={query}&page={page}'\n",
    "    print('extracting data from page :',page)\n",
    "    soup = getpage(link)\n",
    "    if soup:                                # if we get page data\n",
    "        status =  extract(soup)\n",
    "        if not status:\n",
    "            print('products extracted')\n",
    "            break\n",
    "        else:\n",
    "            page += 1"
   ]
  },
  {
   "cell_type": "code",
   "execution_count": 19,
   "metadata": {},
   "outputs": [],
   "source": [
    "out = save('flipkart_speaker_prices')"
   ]
  },
  {
   "cell_type": "code",
   "execution_count": 20,
   "metadata": {},
   "outputs": [
    {
     "data": {
      "text/html": [
       "<div>\n",
       "<style scoped>\n",
       "    .dataframe tbody tr th:only-of-type {\n",
       "        vertical-align: middle;\n",
       "    }\n",
       "\n",
       "    .dataframe tbody tr th {\n",
       "        vertical-align: top;\n",
       "    }\n",
       "\n",
       "    .dataframe thead th {\n",
       "        text-align: right;\n",
       "    }\n",
       "</style>\n",
       "<table border=\"1\" class=\"dataframe\">\n",
       "  <thead>\n",
       "    <tr style=\"text-align: right;\">\n",
       "      <th></th>\n",
       "      <th>name</th>\n",
       "      <th>price</th>\n",
       "      <th>rating</th>\n",
       "    </tr>\n",
       "  </thead>\n",
       "  <tbody>\n",
       "    <tr>\n",
       "      <th>0</th>\n",
       "      <td>boAt Aavante Bar 3100D 260 W Bluetooth Soundbar</td>\n",
       "      <td>13,999</td>\n",
       "      <td>4.2</td>\n",
       "    </tr>\n",
       "    <tr>\n",
       "      <th>1</th>\n",
       "      <td>boAt Aavante Bar 120 W Bluetooth Soundbar</td>\n",
       "      <td>8,199</td>\n",
       "      <td>4.4</td>\n",
       "    </tr>\n",
       "    <tr>\n",
       "      <th>2</th>\n",
       "      <td>boAt Stone 350 10 W Bluetooth Speaker</td>\n",
       "      <td>1,599</td>\n",
       "      <td>4.3</td>\n",
       "    </tr>\n",
       "    <tr>\n",
       "      <th>3</th>\n",
       "      <td>Mivi Fort S100 with 2 in-built subwoofers, Mad...</td>\n",
       "      <td>4,999</td>\n",
       "      <td>4.5</td>\n",
       "    </tr>\n",
       "    <tr>\n",
       "      <th>4</th>\n",
       "      <td>F FERONS Wireless rechargeable portable Premiu...</td>\n",
       "      <td>362</td>\n",
       "      <td>3.9</td>\n",
       "    </tr>\n",
       "    <tr>\n",
       "      <th>...</th>\n",
       "      <td>...</td>\n",
       "      <td>...</td>\n",
       "      <td>...</td>\n",
       "    </tr>\n",
       "    <tr>\n",
       "      <th>275</th>\n",
       "      <td>boAt Stone Grenade 5 W Portable Bluetooth Speaker</td>\n",
       "      <td>1,199</td>\n",
       "      <td>4.2</td>\n",
       "    </tr>\n",
       "    <tr>\n",
       "      <th>276</th>\n",
       "      <td>ZEBRONICS Axon Bluetooth Speaker</td>\n",
       "      <td>1,299</td>\n",
       "      <td>4</td>\n",
       "    </tr>\n",
       "    <tr>\n",
       "      <th>277</th>\n",
       "      <td>MOTOROLA AmphisoundX Dolby with HDMI Arc 120 W...</td>\n",
       "      <td>7,499</td>\n",
       "      <td>4.3</td>\n",
       "    </tr>\n",
       "    <tr>\n",
       "      <th>278</th>\n",
       "      <td>Megaloyalty WS 01 HEAVY SOUND BOOM BLAST High ...</td>\n",
       "      <td>509</td>\n",
       "      <td>4</td>\n",
       "    </tr>\n",
       "    <tr>\n",
       "      <th>279</th>\n",
       "      <td>Aroma Studio 1 Pro High Sound Quality With 6 H...</td>\n",
       "      <td>499</td>\n",
       "      <td>4</td>\n",
       "    </tr>\n",
       "  </tbody>\n",
       "</table>\n",
       "<p>280 rows × 3 columns</p>\n",
       "</div>"
      ],
      "text/plain": [
       "                                                  name   price rating\n",
       "0      boAt Aavante Bar 3100D 260 W Bluetooth Soundbar  13,999    4.2\n",
       "1            boAt Aavante Bar 120 W Bluetooth Soundbar   8,199    4.4\n",
       "2                boAt Stone 350 10 W Bluetooth Speaker   1,599    4.3\n",
       "3    Mivi Fort S100 with 2 in-built subwoofers, Mad...   4,999    4.5\n",
       "4    F FERONS Wireless rechargeable portable Premiu...     362    3.9\n",
       "..                                                 ...     ...    ...\n",
       "275  boAt Stone Grenade 5 W Portable Bluetooth Speaker   1,199    4.2\n",
       "276                   ZEBRONICS Axon Bluetooth Speaker   1,299      4\n",
       "277  MOTOROLA AmphisoundX Dolby with HDMI Arc 120 W...   7,499    4.3\n",
       "278  Megaloyalty WS 01 HEAVY SOUND BOOM BLAST High ...     509      4\n",
       "279  Aroma Studio 1 Pro High Sound Quality With 6 H...     499      4\n",
       "\n",
       "[280 rows x 3 columns]"
      ]
     },
     "execution_count": 20,
     "metadata": {},
     "output_type": "execute_result"
    }
   ],
   "source": [
    "out"
   ]
  },
  {
   "cell_type": "code",
   "execution_count": null,
   "metadata": {},
   "outputs": [],
   "source": []
  }
 ],
 "metadata": {
  "interpreter": {
   "hash": "ecf5722fdaf1897a315d257d89d94520bfcaa453217d5becf09b39e73618b0de"
  },
  "kernelspec": {
   "display_name": "Python 3.9.5 ('base')",
   "language": "python",
   "name": "python3"
  },
  "language_info": {
   "codemirror_mode": {
    "name": "ipython",
    "version": 3
   },
   "file_extension": ".py",
   "mimetype": "text/x-python",
   "name": "python",
   "nbconvert_exporter": "python",
   "pygments_lexer": "ipython3",
   "version": "3.9.5"
  },
  "orig_nbformat": 4
 },
 "nbformat": 4,
 "nbformat_minor": 2
}
