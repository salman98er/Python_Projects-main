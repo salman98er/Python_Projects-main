{
  "nbformat": 4,
  "nbformat_minor": 0,
  "metadata": {
    "colab": {
      "name": "Loops.ipynb",
      "provenance": [],
      "collapsed_sections": [],
      "authorship_tag": "ABX9TyMsly5vVY2oht2nB28DUUkN",
      "include_colab_link": true
    },
    "kernelspec": {
      "name": "python3",
      "display_name": "Python 3"
    },
    "language_info": {
      "name": "python"
    }
  },
  "cells": [
    {
      "cell_type": "markdown",
      "metadata": {
        "id": "view-in-github",
        "colab_type": "text"
      },
      "source": [
        "<a href=\"https://colab.research.google.com/github/salman98er/Python_Projects/blob/main/Loops.ipynb\" target=\"_parent\"><img src=\"https://colab.research.google.com/assets/colab-badge.svg\" alt=\"Open In Colab\"/></a>"
      ]
    },
    {
      "cell_type": "markdown",
      "source": [
        "# python has 2 loops\n",
        " # for\n",
        "# while"
      ],
      "metadata": {
        "id": "oNmpdBn2BUHg"
      }
    },
    {
      "cell_type": "code",
      "source": [
        "x = 'PYTHON'\n",
        "for i in x:\n",
        "    print(i)"
      ],
      "metadata": {
        "colab": {
          "base_uri": "https://localhost:8080/"
        },
        "id": "AuzCv57nBkCu",
        "outputId": "0b2a1557-196a-43b7-bbfe-61a9a7a6297f"
      },
      "execution_count": null,
      "outputs": [
        {
          "output_type": "stream",
          "name": "stdout",
          "text": [
            "P\n",
            "Y\n",
            "T\n",
            "H\n",
            "O\n",
            "N\n"
          ]
        }
      ]
    },
    {
      "cell_type": "code",
      "source": [
        "fruits  = ['apple','banana','lemon']\n",
        "for item in fruits:\n",
        "  print(f'I have {item}')"
      ],
      "metadata": {
        "colab": {
          "base_uri": "https://localhost:8080/"
        },
        "id": "3_5j8-SFECH1",
        "outputId": "c69cd321-296e-46d6-eee8-2b930d76734d"
      },
      "execution_count": null,
      "outputs": [
        {
          "output_type": "stream",
          "name": "stdout",
          "text": [
            "I have apple\n",
            "I have banana\n",
            "I have lemon\n"
          ]
        }
      ]
    },
    {
      "cell_type": "code",
      "source": [
        "movies = ['chandigarh kare aashiqui','the amazing spiderman','sooryavanshi']\n",
        "for movie in movies:\n",
        "  \n",
        "  print(movie,len(movie))"
      ],
      "metadata": {
        "colab": {
          "base_uri": "https://localhost:8080/"
        },
        "id": "lqgEdMdkF28C",
        "outputId": "a47b3ed9-a457-4552-fbf5-67b89dd192d5"
      },
      "execution_count": null,
      "outputs": [
        {
          "output_type": "stream",
          "name": "stdout",
          "text": [
            "chandigarh kare aashiqui 24\n",
            "the amazing spiderman 21\n",
            "sooryavanshi 12\n"
          ]
        }
      ]
    },
    {
      "cell_type": "markdown",
      "source": [
        "#settings\n",
        "#for loop with  counter\n",
        "#enumerate means counting"
      ],
      "metadata": {
        "id": "K9kwPXKFHs27"
      }
    },
    {
      "cell_type": "code",
      "source": [
        "for i,name in enumerate(movies):\n",
        "    print(f'{i+1} - {name}')"
      ],
      "metadata": {
        "colab": {
          "base_uri": "https://localhost:8080/"
        },
        "id": "jVjhpEYjINKk",
        "outputId": "d5bd9e5f-abf6-45ba-942a-1036dfc8edf2"
      },
      "execution_count": null,
      "outputs": [
        {
          "output_type": "stream",
          "name": "stdout",
          "text": [
            "1 - chandigarh kare aashiqui\n",
            "2 - the amazing spiderman\n",
            "3 - sooryavanshi\n"
          ]
        }
      ]
    },
    {
      "cell_type": "markdown",
      "source": [
        "#range"
      ],
      "metadata": {
        "id": "BytDvvx6KqCj"
      }
    },
    {
      "cell_type": "code",
      "source": [
        "for i in range(8):\n",
        "  print('you got point',i)"
      ],
      "metadata": {
        "colab": {
          "base_uri": "https://localhost:8080/"
        },
        "id": "qpMPFtkIKr8a",
        "outputId": "af9b2f70-88dd-4058-d225-7ce1478275e8"
      },
      "execution_count": null,
      "outputs": [
        {
          "output_type": "stream",
          "name": "stdout",
          "text": [
            "you got point 0\n",
            "you got point 1\n",
            "you got point 2\n",
            "you got point 3\n",
            "you got point 4\n",
            "you got point 5\n",
            "you got point 6\n",
            "you got point 7\n"
          ]
        }
      ]
    },
    {
      "cell_type": "code",
      "source": [
        "for i in range(2,10):\n",
        "  print('sheep no.',i)"
      ],
      "metadata": {
        "colab": {
          "base_uri": "https://localhost:8080/"
        },
        "id": "DHfxAYBUK1-Y",
        "outputId": "0de49ac4-60b5-45d2-b434-289860e52200"
      },
      "execution_count": null,
      "outputs": [
        {
          "output_type": "stream",
          "name": "stdout",
          "text": [
            "sheep no. 2\n",
            "sheep no. 3\n",
            "sheep no. 4\n",
            "sheep no. 5\n",
            "sheep no. 6\n",
            "sheep no. 7\n",
            "sheep no. 8\n",
            "sheep no. 9\n"
          ]
        }
      ]
    },
    {
      "cell_type": "code",
      "source": [
        "for  i in range(2,10 ,2):\n",
        "      print(\"numbers = \",i)"
      ],
      "metadata": {
        "colab": {
          "base_uri": "https://localhost:8080/"
        },
        "id": "MMPVccdWLNZo",
        "outputId": "8c026dbd-aee6-4a3d-a0f0-46b1da3cac36"
      },
      "execution_count": null,
      "outputs": [
        {
          "output_type": "stream",
          "name": "stdout",
          "text": [
            "numbers =  2\n",
            "numbers =  4\n",
            "numbers =  6\n",
            "numbers =  8\n"
          ]
        }
      ]
    },
    {
      "cell_type": "code",
      "source": [
        "for num in range(10,5,-1): #reverse loop\n",
        "  print(num)"
      ],
      "metadata": {
        "colab": {
          "base_uri": "https://localhost:8080/"
        },
        "id": "b9GnqI-OLcer",
        "outputId": "1a33ed89-eb98-48a3-e17e-5f452cb08b0b"
      },
      "execution_count": null,
      "outputs": [
        {
          "output_type": "stream",
          "name": "stdout",
          "text": [
            "10\n",
            "9\n",
            "8\n",
            "7\n",
            "6\n"
          ]
        }
      ]
    },
    {
      "cell_type": "code",
      "source": [
        "for i in range(10):#pattern loop\n",
        "  print(i*\"na\")"
      ],
      "metadata": {
        "colab": {
          "base_uri": "https://localhost:8080/"
        },
        "id": "-smF_9XvL1iV",
        "outputId": "cf2420be-293c-482c-94a7-2e20f24791e0"
      },
      "execution_count": null,
      "outputs": [
        {
          "output_type": "stream",
          "name": "stdout",
          "text": [
            "\n",
            "na\n",
            "nana\n",
            "nanana\n",
            "nananana\n",
            "nanananana\n",
            "nananananana\n",
            "nanananananana\n",
            "nananananananana\n",
            "nanananananananana\n"
          ]
        }
      ]
    },
    {
      "cell_type": "markdown",
      "source": [
        "#wap to print if nos are even or odd from 1,100\n",
        "#wap to print the sum of all even nos from 2 to 100\n",
        "#wap to print the average of all odd nos from 1 to 100\n"
      ],
      "metadata": {
        "id": "ahs8_ET0N5HX"
      }
    },
    {
      "cell_type": "code",
      "source": [
        "for i in range(1,101):\n",
        "  if i%2==0:\n",
        "    print(i,'is even')\n",
        "  else:\n",
        "    print(i,'is odd')"
      ],
      "metadata": {
        "colab": {
          "base_uri": "https://localhost:8080/"
        },
        "id": "CDf1Fy1IOZF-",
        "outputId": "86eed01a-fabe-4582-8b1e-95aa87122726"
      },
      "execution_count": null,
      "outputs": [
        {
          "output_type": "stream",
          "name": "stdout",
          "text": [
            "1 is odd\n",
            "2 is even\n",
            "3 is odd\n",
            "4 is even\n",
            "5 is odd\n",
            "6 is even\n",
            "7 is odd\n",
            "8 is even\n",
            "9 is odd\n",
            "10 is even\n",
            "11 is odd\n",
            "12 is even\n",
            "13 is odd\n",
            "14 is even\n",
            "15 is odd\n",
            "16 is even\n",
            "17 is odd\n",
            "18 is even\n",
            "19 is odd\n",
            "20 is even\n",
            "21 is odd\n",
            "22 is even\n",
            "23 is odd\n",
            "24 is even\n",
            "25 is odd\n",
            "26 is even\n",
            "27 is odd\n",
            "28 is even\n",
            "29 is odd\n",
            "30 is even\n",
            "31 is odd\n",
            "32 is even\n",
            "33 is odd\n",
            "34 is even\n",
            "35 is odd\n",
            "36 is even\n",
            "37 is odd\n",
            "38 is even\n",
            "39 is odd\n",
            "40 is even\n",
            "41 is odd\n",
            "42 is even\n",
            "43 is odd\n",
            "44 is even\n",
            "45 is odd\n",
            "46 is even\n",
            "47 is odd\n",
            "48 is even\n",
            "49 is odd\n",
            "50 is even\n",
            "51 is odd\n",
            "52 is even\n",
            "53 is odd\n",
            "54 is even\n",
            "55 is odd\n",
            "56 is even\n",
            "57 is odd\n",
            "58 is even\n",
            "59 is odd\n",
            "60 is even\n",
            "61 is odd\n",
            "62 is even\n",
            "63 is odd\n",
            "64 is even\n",
            "65 is odd\n",
            "66 is even\n",
            "67 is odd\n",
            "68 is even\n",
            "69 is odd\n",
            "70 is even\n",
            "71 is odd\n",
            "72 is even\n",
            "73 is odd\n",
            "74 is even\n",
            "75 is odd\n",
            "76 is even\n",
            "77 is odd\n",
            "78 is even\n",
            "79 is odd\n",
            "80 is even\n",
            "81 is odd\n",
            "82 is even\n",
            "83 is odd\n",
            "84 is even\n",
            "85 is odd\n",
            "86 is even\n",
            "87 is odd\n",
            "88 is even\n",
            "89 is odd\n",
            "90 is even\n",
            "91 is odd\n",
            "92 is even\n",
            "93 is odd\n",
            "94 is even\n",
            "95 is odd\n",
            "96 is even\n",
            "97 is odd\n",
            "98 is even\n",
            "99 is odd\n",
            "100 is even\n"
          ]
        }
      ]
    },
    {
      "cell_type": "code",
      "source": [
        "total = 0\n",
        "for i in range(2,101):\n",
        "   if  i%2==0:\n",
        "      total = total+i\n",
        "print(total)"
      ],
      "metadata": {
        "colab": {
          "base_uri": "https://localhost:8080/"
        },
        "id": "54AZhXJfOsd4",
        "outputId": "e1f8ac24-5a41-47c5-e615-cefba0744915"
      },
      "execution_count": null,
      "outputs": [
        {
          "output_type": "stream",
          "name": "stdout",
          "text": [
            "2550\n"
          ]
        }
      ]
    },
    {
      "cell_type": "code",
      "source": [
        "su = 0\n",
        "avg =0\n",
        "for i in range(1,101):\n",
        "   su =su+i\n",
        "   avg = su/100\n",
        "print(avg)"
      ],
      "metadata": {
        "colab": {
          "base_uri": "https://localhost:8080/"
        },
        "id": "Vs9EimwGQNL8",
        "outputId": "e77527cc-e652-4733-ab5b-86c5f25b337e"
      },
      "execution_count": null,
      "outputs": [
        {
          "output_type": "stream",
          "name": "stdout",
          "text": [
            "50.5\n"
          ]
        }
      ]
    },
    {
      "cell_type": "markdown",
      "source": [
        "#naive implementation"
      ],
      "metadata": {
        "id": "TszCmEPZNrTU"
      }
    },
    {
      "cell_type": "code",
      "source": [
        "print(1,2,3,4,5,sep=\",\")\n",
        "print(2,4,6,8,10,sep=\",\")\n",
        "print(3,6,9,12,15,sep=\",\")\n",
        "print(4,8,12,16,20,sep=\",\")\n",
        "print(5,10,15,20,25,sep=\",\")\n",
        "\n",
        "\n",
        "\n",
        "\n"
      ],
      "metadata": {
        "colab": {
          "base_uri": "https://localhost:8080/"
        },
        "id": "qgoOucefN4Yn",
        "outputId": "891b3fd2-5d1c-41f6-e135-b7e545ee9920"
      },
      "execution_count": null,
      "outputs": [
        {
          "output_type": "stream",
          "name": "stdout",
          "text": [
            "1,2,3,4,5\n",
            "2,4,6,8,10\n",
            "3,6,9,12,15\n",
            "4,8,12,16,20\n",
            "5,10,15,20,25\n"
          ]
        }
      ]
    },
    {
      "cell_type": "markdown",
      "source": [
        "# for dynamic  rows"
      ],
      "metadata": {
        "id": "qkVJpCNrPiUY"
      }
    },
    {
      "cell_type": "code",
      "source": [
        "# for dynamic  rows\n",
        "for i in range(1,6):\n",
        "  print(1*i,2*i,3*i,4*i,5*i,sep=',')"
      ],
      "metadata": {
        "colab": {
          "base_uri": "https://localhost:8080/"
        },
        "id": "yk0k5TieONZC",
        "outputId": "0d24943f-a96f-493d-9339-a3b612b4e0b6"
      },
      "execution_count": null,
      "outputs": [
        {
          "output_type": "stream",
          "name": "stdout",
          "text": [
            "1,2,3,4,5\n",
            "2,4,6,8,10\n",
            "3,6,9,12,15\n",
            "4,8,12,16,20\n",
            "5,10,15,20,25\n"
          ]
        }
      ]
    },
    {
      "cell_type": "markdown",
      "source": [
        "#best implementaation for dynamic rows and columns"
      ],
      "metadata": {
        "id": "Og5x0vtYPl25"
      }
    },
    {
      "cell_type": "code",
      "source": [
        "#best implementaation for dynamic rows and columns\n",
        "for row in range(1,6):\n",
        "  for col in range(1,6):\n",
        "    print(row *col,end=' ') \n",
        "  print()  #line changing\n"
      ],
      "metadata": {
        "colab": {
          "base_uri": "https://localhost:8080/"
        },
        "id": "7zCYyDOdOwaE",
        "outputId": "01572018-e2c4-4028-e60d-0d219fa27a68"
      },
      "execution_count": null,
      "outputs": [
        {
          "output_type": "stream",
          "name": "stdout",
          "text": [
            "1 2 3 4 5 \n",
            "2 4 6 8 10 \n",
            "3 6 9 12 15 \n",
            "4 8 12 16 20 \n",
            "5 10 15 20 25 \n"
          ]
        }
      ]
    },
    {
      "cell_type": "code",
      "source": [
        "x = 1\n",
        "while x<5:\n",
        "  print('run')\n",
        "  x+=1\n",
        "print(\"stop\")"
      ],
      "metadata": {
        "colab": {
          "base_uri": "https://localhost:8080/"
        },
        "id": "U4f4h1PEP94I",
        "outputId": "f0f66af7-b10f-4f5c-ae84-35df90c65838"
      },
      "execution_count": null,
      "outputs": [
        {
          "output_type": "stream",
          "name": "stdout",
          "text": [
            "run\n",
            "run\n",
            "run\n",
            "run\n",
            "stop\n"
          ]
        }
      ]
    },
    {
      "cell_type": "code",
      "source": [
        "# a complex program\n",
        "n =10\n",
        "sum = 0\n",
        "i=1\n",
        "while i<=n:\n",
        "  sum = sum+i \n",
        "  i=i+1\n",
        "print('the sum is ',sum)"
      ],
      "metadata": {
        "id": "_ANRLcxiSDaR",
        "colab": {
          "base_uri": "https://localhost:8080/"
        },
        "outputId": "45409f8e-4e96-49cd-e94b-c318dab49b28"
      },
      "execution_count": null,
      "outputs": [
        {
          "output_type": "stream",
          "name": "stdout",
          "text": [
            "the sum is  55\n"
          ]
        }
      ]
    },
    {
      "cell_type": "code",
      "source": [
        "input()"
      ],
      "metadata": {
        "id": "jwRGNjAKSp8L",
        "colab": {
          "base_uri": "https://localhost:8080/",
          "height": 54
        },
        "outputId": "e839bbf4-3e1a-4797-e47b-3c2138169f5a"
      },
      "execution_count": null,
      "outputs": [
        {
          "name": "stdout",
          "output_type": "stream",
          "text": [
            "\n"
          ]
        },
        {
          "output_type": "execute_result",
          "data": {
            "application/vnd.google.colaboratory.intrinsic+json": {
              "type": "string"
            },
            "text/plain": [
              "''"
            ]
          },
          "metadata": {},
          "execution_count": 5
        }
      ]
    },
    {
      "cell_type": "code",
      "source": [
        "poem=' '\n",
        "while input('do you want to write another link[y/n]')=='y':\n",
        "  line=input('>>>')\n",
        "  poem+=line\n",
        "chars=len(poem)\n",
        "print(f'total characters in poem is {chars}')"
      ],
      "metadata": {
        "id": "qiH8GoFSTm76",
        "colab": {
          "base_uri": "https://localhost:8080/"
        },
        "outputId": "1571dbea-bf44-40ed-b4fc-6808ac93e2e0"
      },
      "execution_count": null,
      "outputs": [
        {
          "output_type": "stream",
          "name": "stdout",
          "text": [
            "do you want to write another link[y/n]y\n",
            ">>>twinkl twinkle littlt star\n",
            "do you want to write another link[y/n]n\n",
            "total characters in poem is 27\n",
            "do you want to write another link[y/n]n\n",
            "total characters in poem is 1\n"
          ]
        }
      ]
    },
    {
      "cell_type": "code",
      "source": [
        "x = [1,2,'',3,4,5,'',6,7,'',8,9,10]\n",
        "total = 0\n",
        "for i in x:\n",
        "  if isinstance(i,str): #type another \n",
        "    continue #\n",
        "  total+=i\n",
        "print(total)"
      ],
      "metadata": {
        "id": "XhNtxno_UzpQ",
        "colab": {
          "base_uri": "https://localhost:8080/"
        },
        "outputId": "9341310a-96b6-45f4-a1f2-2ad5ae72df6c"
      },
      "execution_count": null,
      "outputs": [
        {
          "output_type": "stream",
          "name": "stdout",
          "text": [
            "55\n"
          ]
        }
      ]
    },
    {
      "cell_type": "code",
      "source": [
        "x = [1,2,'',3,4,5,'',6,7,'',8,9,10]\n",
        "total = 0\n",
        "for i in x:\n",
        "  if isinstance(i,int): #type anoth\n",
        "    total+=i\n",
        "print(total)"
      ],
      "metadata": {
        "colab": {
          "base_uri": "https://localhost:8080/"
        },
        "id": "_OS4PjZiYR8p",
        "outputId": "80358284-a4a7-4756-8731-b6593e35204d"
      },
      "execution_count": null,
      "outputs": [
        {
          "output_type": "stream",
          "name": "stdout",
          "text": [
            "55\n"
          ]
        }
      ]
    },
    {
      "cell_type": "code",
      "source": [
        "poem = \" \"\n",
        "while True:\n",
        "  line= input(\"enter your poem\")\n",
        "  if line:\n",
        "    poem+=line+'\\n'\n",
        "  else:\n",
        "    break\n",
        "print(\"total chars\",len(poem))\n",
        "print(poem)"
      ],
      "metadata": {
        "colab": {
          "base_uri": "https://localhost:8080/"
        },
        "id": "joOdUzjoaNG2",
        "outputId": "114d0416-610b-45fc-ae96-7ec41da746d1"
      },
      "execution_count": null,
      "outputs": [
        {
          "output_type": "stream",
          "name": "stdout",
          "text": [
            "enter your poemtwinkle twinkle little star\n",
            "enter your poemtwinkle twinkle little star\n",
            "enter your poem\n",
            "total chars 57\n",
            " twinkle twinkle little star\n",
            "twinkle twinkle little star\n",
            "\n"
          ]
        }
      ]
    },
    {
      "cell_type": "code",
      "source": [
        ""
      ],
      "metadata": {
        "id": "SPtIWW9CbgJF"
      },
      "execution_count": null,
      "outputs": []
    }
  ]
}