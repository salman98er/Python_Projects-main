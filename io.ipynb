{
  "cells": [
    {
      "cell_type": "markdown",
      "metadata": {
        "colab_type": "text",
        "id": "view-in-github"
      },
      "source": [
        "<a href=\"https://colab.research.google.com/github/salman98er/Python_Projects/blob/main/io.ipynb\" target=\"_parent\"><img src=\"https://colab.research.google.com/assets/colab-badge.svg\" alt=\"Open In Colab\"/></a>"
      ]
    },
    {
      "cell_type": "code",
      "execution_count": null,
      "metadata": {
        "id": "QcxoIQBcczlz"
      },
      "outputs": [],
      "source": [
        "x = 20"
      ]
    },
    {
      "cell_type": "code",
      "execution_count": null,
      "metadata": {
        "colab": {
          "base_uri": "https://localhost:8080/"
        },
        "id": "UivY8oqPdA8X",
        "outputId": "d231cdea-9ac7-4723-d38c-95a176760d1d"
      },
      "outputs": [
        {
          "data": {
            "text/plain": [
              "20"
            ]
          },
          "execution_count": 2,
          "metadata": {},
          "output_type": "execute_result"
        }
      ],
      "source": [
        "x"
      ]
    },
    {
      "cell_type": "code",
      "execution_count": null,
      "metadata": {
        "id": "CcMNcvI9dBy6"
      },
      "outputs": [],
      "source": [
        "x = 20\n",
        "y = 10\n",
        "z = 'Apples'\n"
      ]
    },
    {
      "cell_type": "code",
      "execution_count": null,
      "metadata": {
        "colab": {
          "base_uri": "https://localhost:8080/",
          "height": 36
        },
        "id": "ff14iQMBdXEx",
        "outputId": "bf1d56ff-75c3-47de-f298-5d2d66b016c9"
      },
      "outputs": [
        {
          "data": {
            "application/vnd.google.colaboratory.intrinsic+json": {
              "type": "string"
            },
            "text/plain": [
              "'Apples'"
            ]
          },
          "execution_count": 4,
          "metadata": {},
          "output_type": "execute_result"
        }
      ],
      "source": [
        "x\n",
        "y\n",
        "z"
      ]
    },
    {
      "cell_type": "code",
      "execution_count": null,
      "metadata": {
        "colab": {
          "base_uri": "https://localhost:8080/"
        },
        "id": "ufdVVJL9daF9",
        "outputId": "26fed798-f5ee-49ee-c010-151cc96694c6"
      },
      "outputs": [
        {
          "name": "stdout",
          "output_type": "stream",
          "text": [
            "today is rainy day\n",
            "20\n",
            "10\n",
            "Apples\n"
          ]
        }
      ],
      "source": [
        "print('today is rainy day')  #formatted output\n",
        "print(x)\n",
        "print(y)\n",
        "print(z)"
      ]
    },
    {
      "cell_type": "code",
      "execution_count": null,
      "metadata": {
        "colab": {
          "base_uri": "https://localhost:8080/"
        },
        "id": "QZDHqrU4ehtV",
        "outputId": "80d918d5-12a1-4a5d-92e7-5a69767f8849"
      },
      "outputs": [
        {
          "name": "stdout",
          "output_type": "stream",
          "text": [
            "20 10 Apples saare k saare\n"
          ]
        }
      ],
      "source": [
        "print(x,y,z,'saare k saare')"
      ]
    },
    {
      "cell_type": "code",
      "execution_count": null,
      "metadata": {
        "colab": {
          "base_uri": "https://localhost:8080/"
        },
        "id": "gwoyBB8-epT3",
        "outputId": "823b28c2-15ec-4f2a-e08b-faa635c32e46"
      },
      "outputs": [
        {
          "name": "stdout",
          "output_type": "stream",
          "text": [
            "Apples,banana,Cherry,Dragon Fruit\n"
          ]
        }
      ],
      "source": [
        "print('Apples','banana','Cherry','Dragon Fruit' ,sep=',')  # sep is used to add special characters(,-) between the print items"
      ]
    },
    {
      "cell_type": "markdown",
      "metadata": {
        "id": "8roGBAIgmiLF"
      },
      "source": [
        "# how to display text mixed with variables\n",
        " #comma seperated\n",
        " #format specifier\n",
        " #using + as a concatenation\n",
        " #using format() function\n",
        " #using f-string (from version 3.6)\n",
        " "
      ]
    },
    {
      "cell_type": "code",
      "execution_count": null,
      "metadata": {
        "id": "iu14V7wtgepI"
      },
      "outputs": [],
      "source": [
        "lang = 'Python'\n",
        "lc = 'easy'\n",
        "version = '3.10'\n",
        "creator = 'Guide Von Rossum'"
      ]
    },
    {
      "cell_type": "code",
      "execution_count": null,
      "metadata": {
        "colab": {
          "base_uri": "https://localhost:8080/"
        },
        "id": "diKfUk_DhFtW",
        "outputId": "1a36420e-d0ad-4bf9-d37e-cf4cb38e8066"
      },
      "outputs": [
        {
          "name": "stdout",
          "output_type": "stream",
          "text": [
            "Python is an easy language created by Guide Von Rossum the version is  3.10\n"
          ]
        }
      ],
      "source": [
        "print(lang,'is an',lc,'language created by',creator, 'the version is ',version)"
      ]
    },
    {
      "cell_type": "code",
      "execution_count": null,
      "metadata": {
        "colab": {
          "base_uri": "https://localhost:8080/"
        },
        "id": "HG63-KC2ieoR",
        "outputId": "e0167b1d-0289-450e-be3c-9ead5417ebc4"
      },
      "outputs": [
        {
          "name": "stdout",
          "output_type": "stream",
          "text": [
            "Python is an easy lanuage created by Guide Von Rossum the current version  is 3.10\n"
          ]
        }
      ],
      "source": [
        "print('%s is an %s lanuage created by %s the current version  is %s'%(lang,lc,creator,version))"
      ]
    },
    {
      "cell_type": "code",
      "execution_count": null,
      "metadata": {
        "colab": {
          "base_uri": "https://localhost:8080/"
        },
        "id": "4ZbdUXkFjEaN",
        "outputId": "a8368621-5237-4f94-fb1d-fe1209aefca3"
      },
      "outputs": [
        {
          "name": "stdout",
          "output_type": "stream",
          "text": [
            "Python is an easy language created by Guide Von Rossum the current version is 3.10\n"
          ]
        }
      ],
      "source": [
        "print(lang + ' is an ' + lc +' language created by ' + creator + \" the current version is \" + version )"
      ]
    },
    {
      "cell_type": "code",
      "execution_count": null,
      "metadata": {
        "colab": {
          "base_uri": "https://localhost:8080/"
        },
        "id": "HRV_jVarkxAu",
        "outputId": "b3288f33-958c-4b9d-f48f-27ce08570a45"
      },
      "outputs": [
        {
          "name": "stdout",
          "output_type": "stream",
          "text": [
            "Python is an easy language created by Guide Von Rossum the current version is 3.10\n"
          ]
        }
      ],
      "source": [
        "print('{} is an {} language created by {} the current version is {}'.format(lang,lc,creator,version)) #format function"
      ]
    },
    {
      "cell_type": "markdown",
      "metadata": {
        "id": "_BqhDAB0mtLN"
      },
      "source": [
        "#the better way to create and print messages in python is f-string introduced in 3.6"
      ]
    },
    {
      "cell_type": "code",
      "execution_count": null,
      "metadata": {
        "colab": {
          "base_uri": "https://localhost:8080/"
        },
        "id": "biPp1PFHnIxs",
        "outputId": "200449ff-e375-4471-cd63-2a2bdbedc28f"
      },
      "outputs": [
        {
          "name": "stdout",
          "output_type": "stream",
          "text": [
            "Python is an easy language created by Guide Von Rossum, the current version is 3.10\n"
          ]
        }
      ],
      "source": [
        "print(f'{lang} is an {lc} language created by {creator}, the current version is {version}')"
      ]
    },
    {
      "cell_type": "code",
      "execution_count": null,
      "metadata": {
        "colab": {
          "base_uri": "https://localhost:8080/"
        },
        "id": "tDFlIEV2niPs",
        "outputId": "2821d15a-6ff4-4a24-8958-21f044b30aa5"
      },
      "outputs": [
        {
          "name": "stdout",
          "output_type": "stream",
          "text": [
            "Python is an easy language\n"
          ]
        }
      ],
      "source": [
        "print(f'{lang} is an {lc} language')"
      ]
    },
    {
      "cell_type": "code",
      "execution_count": null,
      "metadata": {
        "colab": {
          "base_uri": "https://localhost:8080/"
        },
        "id": "V-HhBhDzn0bh",
        "outputId": "6313b138-455a-433b-c46d-f05b08779c59"
      },
      "outputs": [
        {
          "name": "stdout",
          "output_type": "stream",
          "text": [
            "enter the value of a=>K\n"
          ]
        }
      ],
      "source": [
        "a = input('enter the value of a=>')"
      ]
    },
    {
      "cell_type": "markdown",
      "metadata": {
        "id": "mqrhxUHWrVC7"
      },
      "source": [
        "# TAKING INPUT\n"
      ]
    },
    {
      "cell_type": "code",
      "execution_count": null,
      "metadata": {
        "colab": {
          "base_uri": "https://localhost:8080/"
        },
        "id": "2nq9JNGwoZ03",
        "outputId": "5bca6b84-b914-4846-a268-38b491d1859e"
      },
      "outputs": [
        {
          "name": "stdout",
          "output_type": "stream",
          "text": [
            "enter ur nameArjun\n",
            "enter ur age23\n",
            "Arjun 23 were given\n",
            "<class 'str'> <class 'str'>\n"
          ]
        }
      ],
      "source": [
        "name = input(\"enter ur name\")\n",
        "age = input('enter ur age')\n",
        "print(name,age,'were given')\n",
        "print(type(name), type(age))"
      ]
    },
    {
      "cell_type": "code",
      "execution_count": null,
      "metadata": {
        "colab": {
          "base_uri": "https://localhost:8080/"
        },
        "id": "vuahoXGVpfUv",
        "outputId": "e9285269-ccd4-4d4c-b376-c2262748b7ea"
      },
      "outputs": [
        {
          "name": "stdout",
          "output_type": "stream",
          "text": [
            "enter temprature in degree12\n",
            "33\n"
          ]
        }
      ],
      "source": [
        "temp = int(input(\"enter temprature in degree\"))\n",
        "print(temp+21)"
      ]
    },
    {
      "cell_type": "code",
      "execution_count": null,
      "metadata": {
        "colab": {
          "base_uri": "https://localhost:8080/"
        },
        "id": "ZVnw_j2tqfu6",
        "outputId": "590bcbea-1bed-4dce-a3e9-0ee8bd9f8cb5"
      },
      "outputs": [
        {
          "name": "stdout",
          "output_type": "stream",
          "text": [
            "Enter A:45\n",
            "Enter B:55\n"
          ]
        }
      ],
      "source": [
        "a = int(input(\"Enter A:\"))\n",
        "b = int(input(\"Enter B:\"))"
      ]
    },
    {
      "cell_type": "code",
      "execution_count": null,
      "metadata": {
        "colab": {
          "base_uri": "https://localhost:8080/"
        },
        "id": "Gr0Otyn6rFYr",
        "outputId": "c9aebacb-dd0d-4200-baac-32b61f45ce07"
      },
      "outputs": [
        {
          "data": {
            "text/plain": [
              "100"
            ]
          },
          "execution_count": 37,
          "metadata": {},
          "output_type": "execute_result"
        }
      ],
      "source": [
        "a + b\n"
      ]
    },
    {
      "cell_type": "code",
      "execution_count": null,
      "metadata": {
        "id": "YJyAPmPFrKeO"
      },
      "outputs": [],
      "source": []
    }
  ],
  "metadata": {
    "colab": {
      "authorship_tag": "ABX9TyMsUh39prUSWccD4DCRt+8k",
      "collapsed_sections": [],
      "include_colab_link": true,
      "name": "io.ipynb",
      "provenance": []
    },
    "kernelspec": {
      "display_name": "Python 3",
      "name": "python3"
    },
    "language_info": {
      "name": "python",
      "version": "3.9.5"
    }
  },
  "nbformat": 4,
  "nbformat_minor": 0
}
