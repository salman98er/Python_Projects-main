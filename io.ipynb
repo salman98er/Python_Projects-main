{
  "nbformat": 4,
  "nbformat_minor": 0,
  "metadata": {
    "colab": {
      "name": "io.ipynb",
      "provenance": [],
      "collapsed_sections": [],
      "authorship_tag": "ABX9TyMsUh39prUSWccD4DCRt+8k",
      "include_colab_link": true
    },
    "kernelspec": {
      "name": "python3",
      "display_name": "Python 3"
    },
    "language_info": {
      "name": "python"
    }
  },
  "cells": [
    {
      "cell_type": "markdown",
      "metadata": {
        "id": "view-in-github",
        "colab_type": "text"
      },
      "source": [
        "<a href=\"https://colab.research.google.com/github/salman98er/Python_Projects/blob/main/io.ipynb\" target=\"_parent\"><img src=\"https://colab.research.google.com/assets/colab-badge.svg\" alt=\"Open In Colab\"/></a>"
      ]
    },
    {
      "cell_type": "code",
      "execution_count": null,
      "metadata": {
        "id": "QcxoIQBcczlz"
      },
      "outputs": [],
      "source": [
        "x = 20"
      ]
    },
    {
      "cell_type": "code",
      "source": [
        "x"
      ],
      "metadata": {
        "colab": {
          "base_uri": "https://localhost:8080/"
        },
        "id": "UivY8oqPdA8X",
        "outputId": "d231cdea-9ac7-4723-d38c-95a176760d1d"
      },
      "execution_count": null,
      "outputs": [
        {
          "output_type": "execute_result",
          "data": {
            "text/plain": [
              "20"
            ]
          },
          "metadata": {},
          "execution_count": 2
        }
      ]
    },
    {
      "cell_type": "code",
      "source": [
        "x = 20\n",
        "y = 10\n",
        "z = 'Apples'\n"
      ],
      "metadata": {
        "id": "CcMNcvI9dBy6"
      },
      "execution_count": null,
      "outputs": []
    },
    {
      "cell_type": "code",
      "source": [
        "x\n",
        "y\n",
        "z"
      ],
      "metadata": {
        "id": "ff14iQMBdXEx",
        "colab": {
          "base_uri": "https://localhost:8080/",
          "height": 36
        },
        "outputId": "bf1d56ff-75c3-47de-f298-5d2d66b016c9"
      },
      "execution_count": null,
      "outputs": [
        {
          "output_type": "execute_result",
          "data": {
            "application/vnd.google.colaboratory.intrinsic+json": {
              "type": "string"
            },
            "text/plain": [
              "'Apples'"
            ]
          },
          "metadata": {},
          "execution_count": 4
        }
      ]
    },
    {
      "cell_type": "code",
      "source": [
        "print('today is rainy day')  #formatted output\n",
        "print(x)\n",
        "print(y)\n",
        "print(z)"
      ],
      "metadata": {
        "id": "ufdVVJL9daF9",
        "colab": {
          "base_uri": "https://localhost:8080/"
        },
        "outputId": "26fed798-f5ee-49ee-c010-151cc96694c6"
      },
      "execution_count": null,
      "outputs": [
        {
          "output_type": "stream",
          "name": "stdout",
          "text": [
            "today is rainy day\n",
            "20\n",
            "10\n",
            "Apples\n"
          ]
        }
      ]
    },
    {
      "cell_type": "code",
      "source": [
        "print(x,y,z,'saare k saare')"
      ],
      "metadata": {
        "colab": {
          "base_uri": "https://localhost:8080/"
        },
        "id": "QZDHqrU4ehtV",
        "outputId": "80d918d5-12a1-4a5d-92e7-5a69767f8849"
      },
      "execution_count": null,
      "outputs": [
        {
          "output_type": "stream",
          "name": "stdout",
          "text": [
            "20 10 Apples saare k saare\n"
          ]
        }
      ]
    },
    {
      "cell_type": "code",
      "source": [
        "print('Apples','banana','Cherry','Dragon Fruit' ,sep=',')  # sep is used to add special characters(,-) between the print items"
      ],
      "metadata": {
        "colab": {
          "base_uri": "https://localhost:8080/"
        },
        "id": "gwoyBB8-epT3",
        "outputId": "823b28c2-15ec-4f2a-e08b-faa635c32e46"
      },
      "execution_count": null,
      "outputs": [
        {
          "output_type": "stream",
          "name": "stdout",
          "text": [
            "Apples,banana,Cherry,Dragon Fruit\n"
          ]
        }
      ]
    },
    {
      "cell_type": "markdown",
      "source": [
        "# how to display text mixed with variables\n",
        " #comma seperated\n",
        " #format specifier\n",
        " #using + as a concatenation\n",
        " #using format() function\n",
        " #using f-string (from version 3.6)\n",
        " "
      ],
      "metadata": {
        "id": "8roGBAIgmiLF"
      }
    },
    {
      "cell_type": "code",
      "source": [
        "lang = 'Python'\n",
        "lc = 'easy'\n",
        "version = '3.10'\n",
        "creator = 'Guide Von Rossum'"
      ],
      "metadata": {
        "id": "iu14V7wtgepI"
      },
      "execution_count": null,
      "outputs": []
    },
    {
      "cell_type": "code",
      "source": [
        "print(lang,'is an',lc,'language created by',creator, 'the version is ',version)"
      ],
      "metadata": {
        "id": "diKfUk_DhFtW",
        "colab": {
          "base_uri": "https://localhost:8080/"
        },
        "outputId": "1a36420e-d0ad-4bf9-d37e-cf4cb38e8066"
      },
      "execution_count": null,
      "outputs": [
        {
          "output_type": "stream",
          "name": "stdout",
          "text": [
            "Python is an easy language created by Guide Von Rossum the version is  3.10\n"
          ]
        }
      ]
    },
    {
      "cell_type": "code",
      "source": [
        "print('%s is an %s lanuage created by %s the current version  is %s'%(lang,lc,creator,version))"
      ],
      "metadata": {
        "colab": {
          "base_uri": "https://localhost:8080/"
        },
        "id": "HG63-KC2ieoR",
        "outputId": "e0167b1d-0289-450e-be3c-9ead5417ebc4"
      },
      "execution_count": null,
      "outputs": [
        {
          "output_type": "stream",
          "name": "stdout",
          "text": [
            "Python is an easy lanuage created by Guide Von Rossum the current version  is 3.10\n"
          ]
        }
      ]
    },
    {
      "cell_type": "code",
      "source": [
        "print(lang + ' is an ' + lc +' language created by ' + creator + \" the current version is \" + version )"
      ],
      "metadata": {
        "colab": {
          "base_uri": "https://localhost:8080/"
        },
        "id": "4ZbdUXkFjEaN",
        "outputId": "a8368621-5237-4f94-fb1d-fe1209aefca3"
      },
      "execution_count": null,
      "outputs": [
        {
          "output_type": "stream",
          "name": "stdout",
          "text": [
            "Python is an easy language created by Guide Von Rossum the current version is 3.10\n"
          ]
        }
      ]
    },
    {
      "cell_type": "code",
      "source": [
        "print('{} is an {} language created by {} the current version is {}'.format(lang,lc,creator,version)) #format function"
      ],
      "metadata": {
        "colab": {
          "base_uri": "https://localhost:8080/"
        },
        "id": "HRV_jVarkxAu",
        "outputId": "b3288f33-958c-4b9d-f48f-27ce08570a45"
      },
      "execution_count": null,
      "outputs": [
        {
          "output_type": "stream",
          "name": "stdout",
          "text": [
            "Python is an easy language created by Guide Von Rossum the current version is 3.10\n"
          ]
        }
      ]
    },
    {
      "cell_type": "markdown",
      "source": [
        "#the better way to create and print messages in python is f-string introduced in 3.6"
      ],
      "metadata": {
        "id": "_BqhDAB0mtLN"
      }
    },
    {
      "cell_type": "code",
      "source": [
        "print(f'{lang} is an {lc} language created by {creator}, the current version is {version}')"
      ],
      "metadata": {
        "colab": {
          "base_uri": "https://localhost:8080/"
        },
        "id": "biPp1PFHnIxs",
        "outputId": "200449ff-e375-4471-cd63-2a2bdbedc28f"
      },
      "execution_count": null,
      "outputs": [
        {
          "output_type": "stream",
          "name": "stdout",
          "text": [
            "Python is an easy language created by Guide Von Rossum, the current version is 3.10\n"
          ]
        }
      ]
    },
    {
      "cell_type": "code",
      "source": [
        "print(f'{lang} is an {lc} language')"
      ],
      "metadata": {
        "colab": {
          "base_uri": "https://localhost:8080/"
        },
        "id": "tDFlIEV2niPs",
        "outputId": "2821d15a-6ff4-4a24-8958-21f044b30aa5"
      },
      "execution_count": null,
      "outputs": [
        {
          "output_type": "stream",
          "name": "stdout",
          "text": [
            "Python is an easy language\n"
          ]
        }
      ]
    },
    {
      "cell_type": "code",
      "source": [
        "a = input('enter the value of a=>')"
      ],
      "metadata": {
        "colab": {
          "base_uri": "https://localhost:8080/"
        },
        "id": "V-HhBhDzn0bh",
        "outputId": "6313b138-455a-433b-c46d-f05b08779c59"
      },
      "execution_count": null,
      "outputs": [
        {
          "name": "stdout",
          "output_type": "stream",
          "text": [
            "enter the value of a=>K\n"
          ]
        }
      ]
    },
    {
      "cell_type": "markdown",
      "source": [
        "# TAKING INPUT\n"
      ],
      "metadata": {
        "id": "mqrhxUHWrVC7"
      }
    },
    {
      "cell_type": "code",
      "source": [
        "name = input(\"enter ur name\")\n",
        "age = input('enter ur age')\n",
        "print(name,age,'were given')\n",
        "print(type(name), type(age))"
      ],
      "metadata": {
        "colab": {
          "base_uri": "https://localhost:8080/"
        },
        "id": "2nq9JNGwoZ03",
        "outputId": "5bca6b84-b914-4846-a268-38b491d1859e"
      },
      "execution_count": null,
      "outputs": [
        {
          "output_type": "stream",
          "name": "stdout",
          "text": [
            "enter ur nameArjun\n",
            "enter ur age23\n",
            "Arjun 23 were given\n",
            "<class 'str'> <class 'str'>\n"
          ]
        }
      ]
    },
    {
      "cell_type": "code",
      "source": [
        "temp = int(input(\"enter temprature in degree\"))\n",
        "print(temp+21)"
      ],
      "metadata": {
        "colab": {
          "base_uri": "https://localhost:8080/"
        },
        "id": "vuahoXGVpfUv",
        "outputId": "e9285269-ccd4-4d4c-b376-c2262748b7ea"
      },
      "execution_count": null,
      "outputs": [
        {
          "output_type": "stream",
          "name": "stdout",
          "text": [
            "enter temprature in degree12\n",
            "33\n"
          ]
        }
      ]
    },
    {
      "cell_type": "code",
      "source": [
        "a = int(input(\"Enter A:\"))\n",
        "b = int(input(\"Enter B:\"))"
      ],
      "metadata": {
        "colab": {
          "base_uri": "https://localhost:8080/"
        },
        "id": "ZVnw_j2tqfu6",
        "outputId": "590bcbea-1bed-4dce-a3e9-0ee8bd9f8cb5"
      },
      "execution_count": null,
      "outputs": [
        {
          "name": "stdout",
          "output_type": "stream",
          "text": [
            "Enter A:45\n",
            "Enter B:55\n"
          ]
        }
      ]
    },
    {
      "cell_type": "code",
      "source": [
        "a + b\n"
      ],
      "metadata": {
        "colab": {
          "base_uri": "https://localhost:8080/"
        },
        "id": "Gr0Otyn6rFYr",
        "outputId": "c9aebacb-dd0d-4200-baac-32b61f45ce07"
      },
      "execution_count": null,
      "outputs": [
        {
          "output_type": "execute_result",
          "data": {
            "text/plain": [
              "100"
            ]
          },
          "metadata": {},
          "execution_count": 37
        }
      ]
    },
    {
      "cell_type": "code",
      "source": [
        ""
      ],
      "metadata": {
        "id": "YJyAPmPFrKeO"
      },
      "execution_count": null,
      "outputs": []
    }
  ]
}