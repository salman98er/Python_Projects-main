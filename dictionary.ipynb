{
 "cells": [
  {
   "cell_type": "code",
   "execution_count": 1,
   "metadata": {},
   "outputs": [
    {
     "data": {
      "text/plain": [
       "dict"
      ]
     },
     "execution_count": 1,
     "metadata": {},
     "output_type": "execute_result"
    }
   ],
   "source": [
    "a_dict = dict()\n",
    "type(a_dict)"
   ]
  },
  {
   "cell_type": "code",
   "execution_count": 2,
   "metadata": {},
   "outputs": [
    {
     "data": {
      "text/plain": [
       "dict"
      ]
     },
     "execution_count": 2,
     "metadata": {},
     "output_type": "execute_result"
    }
   ],
   "source": [
    "a_dict = {}\n",
    "type(a_dict)"
   ]
  },
  {
   "cell_type": "code",
   "execution_count": 3,
   "metadata": {},
   "outputs": [
    {
     "data": {
      "text/plain": [
       "1"
      ]
     },
     "execution_count": 3,
     "metadata": {},
     "output_type": "execute_result"
    }
   ],
   "source": [
    "a_dict = {'a':1,'b':2,'c':3}\n",
    "a_dict['a']  # 100% sure"
   ]
  },
  {
   "cell_type": "code",
   "execution_count": 4,
   "metadata": {},
   "outputs": [
    {
     "data": {
      "text/plain": [
       "2"
      ]
     },
     "execution_count": 4,
     "metadata": {},
     "output_type": "execute_result"
    }
   ],
   "source": [
    "a_dict.get('b')  #not sure"
   ]
  },
  {
   "cell_type": "code",
   "execution_count": 6,
   "metadata": {},
   "outputs": [
    {
     "data": {
      "text/plain": [
       "{'A': 'apple', 'B': 'boat', 'C': 'catterpillar'}"
      ]
     },
     "execution_count": 6,
     "metadata": {},
     "output_type": "execute_result"
    }
   ],
   "source": [
    "a_dict = {'A':'apple','B':'boat','C':'catterpillar'}\n",
    "a_dict"
   ]
  },
  {
   "cell_type": "code",
   "execution_count": 8,
   "metadata": {},
   "outputs": [
    {
     "data": {
      "text/plain": [
       "{'A': 'apple', 'B': 'boat', 'C': 'catterpillar', 'c': 'cricket'}"
      ]
     },
     "execution_count": 8,
     "metadata": {},
     "output_type": "execute_result"
    }
   ],
   "source": [
    "a_dict['c'] = 'cricket'\n",
    "a_dict"
   ]
  },
  {
   "cell_type": "code",
   "execution_count": 9,
   "metadata": {},
   "outputs": [
    {
     "data": {
      "text/plain": [
       "{'A': 'apple', 'B': 'boat', 'C': {'car', 'cast', 'cow'}, 'c': 'cricket'}"
      ]
     },
     "execution_count": 9,
     "metadata": {},
     "output_type": "execute_result"
    }
   ],
   "source": [
    "a_dict['C'] = {'cast','cow','car'}\n",
    "a_dict"
   ]
  },
  {
   "cell_type": "code",
   "execution_count": 14,
   "metadata": {},
   "outputs": [
    {
     "data": {
      "text/plain": [
       "{'maths': 54, 'chemistry': 96, 'physics': 85, 'english': 77, 'computer': 98}"
      ]
     },
     "execution_count": 14,
     "metadata": {},
     "output_type": "execute_result"
    }
   ],
   "source": [
    "abhilash_dict = {'maths':45,'chemistry':76,'physics':65,'english':87,'computer':88}\n",
    "saurabh_dict = {'maths':98,'chemistry':97,'physics':87,'english':76,'computer':66}\n",
    "ayushui_dict = {'maths':49,'chemistry':79,'physics':68,'english':80,'computer':78}\n",
    "ayush_dict = {'maths':54,'chemistry':96,'physics':85,'english':77,'computer':98}\n",
    "austine_dict = {'maths':48,'chemistry':46,'physics':75,'english':57,'computer':58}\n",
    "abhilash_dict\n",
    "austine_dict\n",
    "saurabh_dict\n",
    "ayushui_dict\n",
    "ayush_dict"
   ]
  },
  {
   "cell_type": "code",
   "execution_count": 9,
   "metadata": {},
   "outputs": [],
   "source": [
    "report = {\n",
    "    'Ram':{\n",
    "        'enghlish':57,\n",
    "        'hindi':89,\n",
    "        'maths':67,\n",
    "        'science':98,\n",
    "        'arts' : 97,\n",
    "    },\n",
    "     'AMAN':{\n",
    "        'enghlish':57,\n",
    "        'hindi':89,\n",
    "        'maths':67,\n",
    "        'science':98,\n",
    "        'arts' : 97,\n",
    "    },\n",
    "    'monu':{\n",
    "        'enghlish':57,\n",
    "        'hindi':89,\n",
    "        'maths':67,\n",
    "        'science':98,\n",
    "        'arts' : 97,\n",
    "    },\n",
    "    'sonu':{\n",
    "        'enghlish':57,\n",
    "        'hindi':89,\n",
    "        'maths':67,\n",
    "       'titu':{\n",
    "        'enghlish':57,\n",
    "        'hindi':89,\n",
    "        'maths':67,\n",
    "        'science':98,\n",
    "        'arts' : 97,\n",
    "     'science':98,\n",
    "        'arts' : 97,\n",
    "    } \n",
    "}\n",
    "}"
   ]
  },
  {
   "cell_type": "code",
   "execution_count": 11,
   "metadata": {},
   "outputs": [
    {
     "data": {
      "text/plain": [
       "{'Ram': {'enghlish': 57, 'hindi': 89, 'maths': 67, 'science': 98, 'arts': 97},\n",
       " 'AMAN': {'enghlish': 57, 'hindi': 89, 'maths': 67, 'science': 98, 'arts': 97},\n",
       " 'monu': {'enghlish': 57, 'hindi': 89, 'maths': 67, 'science': 98, 'arts': 97},\n",
       " 'sonu': {'enghlish': 57,\n",
       "  'hindi': 89,\n",
       "  'maths': 67,\n",
       "  'titu': {'enghlish': 57,\n",
       "   'hindi': 89,\n",
       "   'maths': 67,\n",
       "   'science': 98,\n",
       "   'arts': 97}}}"
      ]
     },
     "execution_count": 11,
     "metadata": {},
     "output_type": "execute_result"
    }
   ],
   "source": [
    "report"
   ]
  },
  {
   "cell_type": "code",
   "execution_count": null,
   "metadata": {},
   "outputs": [],
   "source": []
  }
 ],
 "metadata": {
  "interpreter": {
   "hash": "3b46d90f51efc9954aac783a2eeafaa32071d5f42b6ad50b655f1bb58039c82c"
  },
  "kernelspec": {
   "display_name": "Python 3.9.5 ('base')",
   "language": "python",
   "name": "python3"
  },
  "language_info": {
   "codemirror_mode": {
    "name": "ipython",
    "version": 3
   },
   "file_extension": ".py",
   "mimetype": "text/x-python",
   "name": "python",
   "nbconvert_exporter": "python",
   "pygments_lexer": "ipython3",
   "version": "3.9.5"
  },
  "orig_nbformat": 4
 },
 "nbformat": 4,
 "nbformat_minor": 2
}
