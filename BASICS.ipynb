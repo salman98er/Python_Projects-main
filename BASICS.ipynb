{
  "nbformat": 4,
  "nbformat_minor": 0,
  "metadata": {
    "colab": {
      "name": "BASICS.ipynb",
      "provenance": [],
      "collapsed_sections": [
        "UUrVLaV_LzSr"
      ],
      "authorship_tag": "ABX9TyO5TYSLHxO8qWtbKCmhMTg6",
      "include_colab_link": true
    },
    "kernelspec": {
      "name": "python3",
      "display_name": "Python 3"
    },
    "language_info": {
      "name": "python"
    }
  },
  "cells": [
    {
      "cell_type": "markdown",
      "metadata": {
        "id": "view-in-github",
        "colab_type": "text"
      },
      "source": [
        "<a href=\"https://colab.research.google.com/github/salman98er/Python_Projects/blob/main/BASICS.ipynb\" target=\"_parent\"><img src=\"https://colab.research.google.com/assets/colab-badge.svg\" alt=\"Open In Colab\"/></a>"
      ]
    },
    {
      "cell_type": "code",
      "execution_count": null,
      "metadata": {
        "colab": {
          "base_uri": "https://localhost:8080/"
        },
        "id": "E4pCSWsdAO30",
        "outputId": "300b5e47-6e3d-47db-d150-6909322a5c46"
      },
      "outputs": [
        {
          "output_type": "execute_result",
          "data": {
            "text/plain": [
              "4"
            ]
          },
          "metadata": {},
          "execution_count": 1
        }
      ],
      "source": [
        "2 +2"
      ]
    },
    {
      "cell_type": "markdown",
      "source": [
        "Basics of Python\n",
        "# ARITHMATIC OPERATORS \n",
        "#ADD +\n",
        "#SUB -\n",
        "#MUL *\n",
        "#NORMAL DIV / ( REAL NO.)\n",
        "#INTEGER DIV // ( WHOLE NO.)\n",
        "#MODULUS % (REMAINDER)\n",
        "#EXPONENT ** (POWER)\n",
        "\n"
      ],
      "metadata": {
        "id": "c6piSKBLB2xQ"
      }
    },
    {
      "cell_type": "code",
      "source": [
        "3-10"
      ],
      "metadata": {
        "colab": {
          "base_uri": "https://localhost:8080/"
        },
        "id": "ymqYODuhBjKA",
        "outputId": "c1ddf9fd-4758-4669-c11b-74c6533acd2b"
      },
      "execution_count": null,
      "outputs": [
        {
          "output_type": "execute_result",
          "data": {
            "text/plain": [
              "-7"
            ]
          },
          "metadata": {},
          "execution_count": 2
        }
      ]
    },
    {
      "cell_type": "code",
      "source": [
        "329*123"
      ],
      "metadata": {
        "colab": {
          "base_uri": "https://localhost:8080/"
        },
        "id": "xPYWIaZ_B-po",
        "outputId": "5c11a084-426c-4890-ec10-000b58626f5a"
      },
      "execution_count": null,
      "outputs": [
        {
          "output_type": "execute_result",
          "data": {
            "text/plain": [
              "40467"
            ]
          },
          "metadata": {},
          "execution_count": 3
        }
      ]
    },
    {
      "cell_type": "code",
      "source": [
        "6/3"
      ],
      "metadata": {
        "colab": {
          "base_uri": "https://localhost:8080/"
        },
        "id": "lyV2Iug0CJBD",
        "outputId": "5209809f-07bc-43d0-e133-75b694a6eddb"
      },
      "execution_count": null,
      "outputs": [
        {
          "output_type": "execute_result",
          "data": {
            "text/plain": [
              "2.0"
            ]
          },
          "metadata": {},
          "execution_count": 4
        }
      ]
    },
    {
      "cell_type": "code",
      "source": [
        "50/5"
      ],
      "metadata": {
        "colab": {
          "base_uri": "https://localhost:8080/"
        },
        "id": "J0Fzc9TlDY5E",
        "outputId": "f9533e37-9e21-4f9e-9dce-57867bbb7663"
      },
      "execution_count": null,
      "outputs": [
        {
          "output_type": "execute_result",
          "data": {
            "text/plain": [
              "10.0"
            ]
          },
          "metadata": {},
          "execution_count": 6
        }
      ]
    },
    {
      "cell_type": "code",
      "source": [
        "10/3"
      ],
      "metadata": {
        "colab": {
          "base_uri": "https://localhost:8080/"
        },
        "id": "_vIFql9DDjL9",
        "outputId": "4de0ffcb-6e39-4c0e-cd7e-da5d0650fe33"
      },
      "execution_count": null,
      "outputs": [
        {
          "output_type": "execute_result",
          "data": {
            "text/plain": [
              "3.3333333333333335"
            ]
          },
          "metadata": {},
          "execution_count": 7
        }
      ]
    },
    {
      "cell_type": "code",
      "source": [
        "10//3"
      ],
      "metadata": {
        "colab": {
          "base_uri": "https://localhost:8080/"
        },
        "id": "EFFh0zYZEuRJ",
        "outputId": "a47f04bf-c147-4cff-86f9-b3a5669d8662"
      },
      "execution_count": null,
      "outputs": [
        {
          "output_type": "execute_result",
          "data": {
            "text/plain": [
              "3"
            ]
          },
          "metadata": {},
          "execution_count": 8
        }
      ]
    },
    {
      "cell_type": "code",
      "source": [
        "10**3"
      ],
      "metadata": {
        "colab": {
          "base_uri": "https://localhost:8080/"
        },
        "id": "3llZYugYEzBH",
        "outputId": "1058ea06-628b-485a-aac3-a90878c0bd1f"
      },
      "execution_count": null,
      "outputs": [
        {
          "output_type": "execute_result",
          "data": {
            "text/plain": [
              "1000"
            ]
          },
          "metadata": {},
          "execution_count": 9
        }
      ]
    },
    {
      "cell_type": "markdown",
      "source": [
        "# COMPARISON OPERATORS\n",
        "\n",
        "*   List item\n",
        "*   List item\n",
        "\n",
        "\n",
        "<,>,<=,>=,==,!=\n"
      ],
      "metadata": {
        "id": "ZKeEKKRVFUdw"
      }
    },
    {
      "cell_type": "code",
      "source": [
        "3298>3000"
      ],
      "metadata": {
        "colab": {
          "base_uri": "https://localhost:8080/"
        },
        "id": "XJx-5ZwHE16u",
        "outputId": "d9208f53-e364-4623-c49d-e8e7936178cb"
      },
      "execution_count": null,
      "outputs": [
        {
          "output_type": "execute_result",
          "data": {
            "text/plain": [
              "True"
            ]
          },
          "metadata": {},
          "execution_count": 11
        }
      ]
    },
    {
      "cell_type": "code",
      "source": [
        "345<123"
      ],
      "metadata": {
        "colab": {
          "base_uri": "https://localhost:8080/"
        },
        "id": "GJWPxmmiFr-Z",
        "outputId": "7e8950c4-32fe-478f-e5d9-03a1d90aeaae"
      },
      "execution_count": null,
      "outputs": [
        {
          "output_type": "execute_result",
          "data": {
            "text/plain": [
              "False"
            ]
          },
          "metadata": {},
          "execution_count": 12
        }
      ]
    },
    {
      "cell_type": "code",
      "source": [
        "100==100"
      ],
      "metadata": {
        "colab": {
          "base_uri": "https://localhost:8080/"
        },
        "id": "Ano3rXCoGBNN",
        "outputId": "6ecea4a7-d484-4226-e421-c21d5f6fae65"
      },
      "execution_count": null,
      "outputs": [
        {
          "output_type": "execute_result",
          "data": {
            "text/plain": [
              "True"
            ]
          },
          "metadata": {},
          "execution_count": 13
        }
      ]
    },
    {
      "cell_type": "code",
      "source": [
        "'HELLO'"
      ],
      "metadata": {
        "colab": {
          "base_uri": "https://localhost:8080/",
          "height": 36
        },
        "id": "RXR7ppkbGDzR",
        "outputId": "e55873f9-f682-49f7-ec22-7b92d11e83aa"
      },
      "execution_count": null,
      "outputs": [
        {
          "output_type": "execute_result",
          "data": {
            "application/vnd.google.colaboratory.intrinsic+json": {
              "type": "string"
            },
            "text/plain": [
              "'HELLO'"
            ]
          },
          "metadata": {},
          "execution_count": 14
        }
      ]
    },
    {
      "cell_type": "code",
      "source": [
        "'THIS IS A SIMPLE TEXT'"
      ],
      "metadata": {
        "colab": {
          "base_uri": "https://localhost:8080/",
          "height": 36
        },
        "id": "wisgqCSCGWSd",
        "outputId": "2f845e05-77a9-46bc-802c-2a0fd05ea3e2"
      },
      "execution_count": null,
      "outputs": [
        {
          "output_type": "execute_result",
          "data": {
            "application/vnd.google.colaboratory.intrinsic+json": {
              "type": "string"
            },
            "text/plain": [
              "'THIS IS A SIMPLE TEXT'"
            ]
          },
          "metadata": {},
          "execution_count": 15
        }
      ]
    },
    {
      "cell_type": "code",
      "source": [
        "\"THIS IS MESSAGE IN DOUBLE QUOTES\" #ONLY SINGLE LINE"
      ],
      "metadata": {
        "colab": {
          "base_uri": "https://localhost:8080/",
          "height": 36
        },
        "id": "VxJ47jHiGgqm",
        "outputId": "7cae4603-02fb-4635-967a-ff09cc67b5dc"
      },
      "execution_count": null,
      "outputs": [
        {
          "output_type": "execute_result",
          "data": {
            "application/vnd.google.colaboratory.intrinsic+json": {
              "type": "string"
            },
            "text/plain": [
              "'THIS IS MESSAGE IN DOUBLE QUOTES'"
            ]
          },
          "metadata": {},
          "execution_count": 17
        }
      ]
    },
    {
      "cell_type": "code",
      "source": [
        "'''THIS IS SPARTA'''"
      ],
      "metadata": {
        "colab": {
          "base_uri": "https://localhost:8080/",
          "height": 36
        },
        "id": "xdXAPq3_GtAQ",
        "outputId": "10c29b2c-5034-4e47-a214-3ae577d95a60"
      },
      "execution_count": null,
      "outputs": [
        {
          "output_type": "execute_result",
          "data": {
            "application/vnd.google.colaboratory.intrinsic+json": {
              "type": "string"
            },
            "text/plain": [
              "'THIS IS SPARTA'"
            ]
          },
          "metadata": {},
          "execution_count": 18
        }
      ]
    },
    {
      "cell_type": "code",
      "source": [
        "'''TWINKLE TWINKLE LITTLE STAR  \n",
        "BLAH\n",
        "'''   #MULTIPLE LINES"
      ],
      "metadata": {
        "colab": {
          "base_uri": "https://localhost:8080/",
          "height": 36
        },
        "id": "pueUXUAZG5Yi",
        "outputId": "a54eeff3-00da-4885-ae50-1d9ccabf0075"
      },
      "execution_count": null,
      "outputs": [
        {
          "output_type": "execute_result",
          "data": {
            "application/vnd.google.colaboratory.intrinsic+json": {
              "type": "string"
            },
            "text/plain": [
              "'TWINKLE TWINKLE LITTLE STAR\\nBLAH\\n'"
            ]
          },
          "metadata": {},
          "execution_count": 20
        }
      ]
    },
    {
      "cell_type": "code",
      "source": [
        "name='Mohd Salman'"
      ],
      "metadata": {
        "id": "wzxuEU5EHMrq"
      },
      "execution_count": null,
      "outputs": []
    },
    {
      "cell_type": "code",
      "source": [
        "name"
      ],
      "metadata": {
        "colab": {
          "base_uri": "https://localhost:8080/",
          "height": 36
        },
        "id": "JeHsEuflIS3A",
        "outputId": "321692b5-77fb-4dd8-90ec-da9ec99dca6a"
      },
      "execution_count": null,
      "outputs": [
        {
          "output_type": "execute_result",
          "data": {
            "application/vnd.google.colaboratory.intrinsic+json": {
              "type": "string"
            },
            "text/plain": [
              "'Mohd Salman'"
            ]
          },
          "metadata": {},
          "execution_count": 22
        }
      ]
    },
    {
      "cell_type": "code",
      "source": [
        "a = 10\n",
        "b = 3\n",
        "a+b"
      ],
      "metadata": {
        "colab": {
          "base_uri": "https://localhost:8080/"
        },
        "id": "id3Ls8caJEfp",
        "outputId": "b7f3606e-8286-4330-8ab1-16ccaa564d84"
      },
      "execution_count": null,
      "outputs": [
        {
          "output_type": "execute_result",
          "data": {
            "text/plain": [
              "13"
            ]
          },
          "metadata": {},
          "execution_count": 27
        }
      ]
    },
    {
      "cell_type": "code",
      "source": [
        " a- b"
      ],
      "metadata": {
        "colab": {
          "base_uri": "https://localhost:8080/"
        },
        "id": "MoKe6gC5JITz",
        "outputId": "0464e189-385d-4dc4-f29c-92cbe5863f00"
      },
      "execution_count": null,
      "outputs": [
        {
          "output_type": "execute_result",
          "data": {
            "text/plain": [
              "7"
            ]
          },
          "metadata": {},
          "execution_count": 28
        }
      ]
    },
    {
      "cell_type": "code",
      "source": [
        "b**a"
      ],
      "metadata": {
        "colab": {
          "base_uri": "https://localhost:8080/"
        },
        "id": "0GHXXBGvJuiQ",
        "outputId": "f0943f7f-8dbc-44b9-d7a7-fba91d397174"
      },
      "execution_count": null,
      "outputs": [
        {
          "output_type": "execute_result",
          "data": {
            "text/plain": [
              "59049"
            ]
          },
          "metadata": {},
          "execution_count": 29
        }
      ]
    },
    {
      "cell_type": "code",
      "source": [
        "a//4"
      ],
      "metadata": {
        "colab": {
          "base_uri": "https://localhost:8080/"
        },
        "id": "I_FSeJLuJxD3",
        "outputId": "5b147f40-f62b-4668-fed5-1e3b62cf8a78"
      },
      "execution_count": null,
      "outputs": [
        {
          "output_type": "execute_result",
          "data": {
            "text/plain": [
              "2"
            ]
          },
          "metadata": {},
          "execution_count": 30
        }
      ]
    },
    {
      "cell_type": "code",
      "source": [
        "college = 'BBD NIIT'\n",
        "dob = '4 nov'\n",
        "mobile = '9161473112'"
      ],
      "metadata": {
        "id": "wvsPJk6AJ7Qx"
      },
      "execution_count": null,
      "outputs": []
    },
    {
      "cell_type": "markdown",
      "source": [
        "#ERRORS\n",
        "#SYNTAX =  WRITING MEIN MISTAKE\n",
        "#EOL( END OF LINE) = MISSING INVERTED COMMA (EK TARAF KA COMMA NA LAGA HO \n",
        "# NAME ERROR ABSENCE OF VARIABLE "
      ],
      "metadata": {
        "id": "UUrVLaV_LzSr"
      }
    },
    {
      "cell_type": "code",
      "source": [
        " location = 'shimla is home'\n",
        " #"
      ],
      "metadata": {
        "id": "MqJF9JnJKlNd"
      },
      "execution_count": null,
      "outputs": []
    },
    {
      "cell_type": "code",
      "source": [
        "dob"
      ],
      "metadata": {
        "colab": {
          "base_uri": "https://localhost:8080/",
          "height": 36
        },
        "id": "x6q4MYx5LX_a",
        "outputId": "84bdca11-b94e-4c3e-e149-62dc035e9451"
      },
      "execution_count": null,
      "outputs": [
        {
          "output_type": "execute_result",
          "data": {
            "application/vnd.google.colaboratory.intrinsic+json": {
              "type": "string"
            },
            "text/plain": [
              "'4 nov'"
            ]
          },
          "metadata": {},
          "execution_count": 34
        }
      ]
    },
    {
      "cell_type": "code",
      "source": [
        "name"
      ],
      "metadata": {
        "colab": {
          "base_uri": "https://localhost:8080/",
          "height": 36
        },
        "id": "FNyxM7ZZMjR3",
        "outputId": "e3f082ca-0437-4185-c676-b90159943914"
      },
      "execution_count": null,
      "outputs": [
        {
          "output_type": "execute_result",
          "data": {
            "application/vnd.google.colaboratory.intrinsic+json": {
              "type": "string"
            },
            "text/plain": [
              "'Mohd Salman'"
            ]
          },
          "metadata": {},
          "execution_count": 36
        }
      ]
    },
    {
      "cell_type": "code",
      "source": [
        "location"
      ],
      "metadata": {
        "colab": {
          "base_uri": "https://localhost:8080/",
          "height": 36
        },
        "id": "ipIG65KmMoAT",
        "outputId": "e6d53e16-bbde-4710-8927-3ae696ddf54f"
      },
      "execution_count": null,
      "outputs": [
        {
          "output_type": "execute_result",
          "data": {
            "application/vnd.google.colaboratory.intrinsic+json": {
              "type": "string"
            },
            "text/plain": [
              "'shimla is home'"
            ]
          },
          "metadata": {},
          "execution_count": 40
        }
      ]
    },
    {
      "cell_type": "markdown",
      "source": [
        "#STRING OPERATORS\n"
      ],
      "metadata": {
        "id": "WitzlhZCM-v4"
      }
    },
    {
      "cell_type": "code",
      "source": [
        "12+32"
      ],
      "metadata": {
        "colab": {
          "base_uri": "https://localhost:8080/"
        },
        "id": "euRIrhiiMwXf",
        "outputId": "97a668df-1af1-4a1e-a3f4-b1779c393df8"
      },
      "execution_count": null,
      "outputs": [
        {
          "output_type": "execute_result",
          "data": {
            "text/plain": [
              "44"
            ]
          },
          "metadata": {},
          "execution_count": 1
        }
      ]
    },
    {
      "cell_type": "code",
      "source": [
        "'HELLO'+ 'WORLD' # CONCATANATION"
      ],
      "metadata": {
        "colab": {
          "base_uri": "https://localhost:8080/",
          "height": 36
        },
        "id": "WJpfc2FDNHpT",
        "outputId": "69b3b3aa-f904-4089-f6b4-35a9bd1faf52"
      },
      "execution_count": null,
      "outputs": [
        {
          "output_type": "execute_result",
          "data": {
            "application/vnd.google.colaboratory.intrinsic+json": {
              "type": "string"
            },
            "text/plain": [
              "'HELLOWORLD'"
            ]
          },
          "metadata": {},
          "execution_count": 2
        }
      ]
    },
    {
      "cell_type": "code",
      "source": [
        "'MOHD' "
      ],
      "metadata": {
        "colab": {
          "base_uri": "https://localhost:8080/",
          "height": 36
        },
        "id": "4_oEYgSUNQz5",
        "outputId": "054098d6-383b-4196-9ead-1a3e5cbed1bb"
      },
      "execution_count": null,
      "outputs": [
        {
          "output_type": "execute_result",
          "data": {
            "application/vnd.google.colaboratory.intrinsic+json": {
              "type": "string"
            },
            "text/plain": [
              "'MOHD'"
            ]
          },
          "metadata": {},
          "execution_count": 4
        }
      ]
    },
    {
      "cell_type": "code",
      "source": [
        "a + name\n",
        "# string cannot be added to nos."
      ],
      "metadata": {
        "colab": {
          "base_uri": "https://localhost:8080/",
          "height": 191
        },
        "id": "HCouSpZdNXvB",
        "outputId": "4ae86a72-373c-4462-a6e8-417ea75d64fb"
      },
      "execution_count": null,
      "outputs": [
        {
          "output_type": "error",
          "ename": "NameError",
          "evalue": "ignored",
          "traceback": [
            "\u001b[0;31m---------------------------------------------------------------------------\u001b[0m",
            "\u001b[0;31mNameError\u001b[0m                                 Traceback (most recent call last)",
            "\u001b[0;32m<ipython-input-9-d8d6ed64a7c0>\u001b[0m in \u001b[0;36m<module>\u001b[0;34m()\u001b[0m\n\u001b[0;32m----> 1\u001b[0;31m \u001b[0ma\u001b[0m \u001b[0;34m+\u001b[0m \u001b[0mname\u001b[0m\u001b[0;34m\u001b[0m\u001b[0;34m\u001b[0m\u001b[0m\n\u001b[0m\u001b[1;32m      2\u001b[0m \u001b[0;31m# string cannot be added to nos.\u001b[0m\u001b[0;34m\u001b[0m\u001b[0;34m\u001b[0m\u001b[0;34m\u001b[0m\u001b[0m\n",
            "\u001b[0;31mNameError\u001b[0m: name 'a' is not defined"
          ]
        }
      ]
    },
    {
      "cell_type": "code",
      "source": [
        "'and'*10"
      ],
      "metadata": {
        "colab": {
          "base_uri": "https://localhost:8080/",
          "height": 36
        },
        "id": "NWr3_zYmNiw3",
        "outputId": "7f217d41-bc52-4996-b53a-936677cdfe46"
      },
      "execution_count": null,
      "outputs": [
        {
          "output_type": "execute_result",
          "data": {
            "application/vnd.google.colaboratory.intrinsic+json": {
              "type": "string"
            },
            "text/plain": [
              "'andandandandandandandandandand'"
            ]
          },
          "metadata": {},
          "execution_count": 6
        }
      ]
    },
    {
      "cell_type": "code",
      "source": [
        "'+'*10"
      ],
      "metadata": {
        "colab": {
          "base_uri": "https://localhost:8080/",
          "height": 36
        },
        "id": "mn4RGGAdN-48",
        "outputId": "c636ee68-b500-4e2f-e63b-fe0a25038a90"
      },
      "execution_count": null,
      "outputs": [
        {
          "output_type": "execute_result",
          "data": {
            "application/vnd.google.colaboratory.intrinsic+json": {
              "type": "string"
            },
            "text/plain": [
              "'++++++++++'"
            ]
          },
          "metadata": {},
          "execution_count": 7
        }
      ]
    },
    {
      "cell_type": "code",
      "source": [
        "name = 'Mohd Salman'\n",
        "name*10"
      ],
      "metadata": {
        "colab": {
          "base_uri": "https://localhost:8080/",
          "height": 36
        },
        "id": "jit8PbN5OKm-",
        "outputId": "77815fa0-07e8-4726-f420-bbc5daad43f6"
      },
      "execution_count": null,
      "outputs": [
        {
          "output_type": "execute_result",
          "data": {
            "application/vnd.google.colaboratory.intrinsic+json": {
              "type": "string"
            },
            "text/plain": [
              "'Mohd SalmanMohd SalmanMohd SalmanMohd SalmanMohd SalmanMohd SalmanMohd SalmanMohd SalmanMohd SalmanMohd Salman'"
            ]
          },
          "metadata": {},
          "execution_count": 10
        }
      ]
    },
    {
      "cell_type": "markdown",
      "source": [
        "#Variable\n"
      ],
      "metadata": {
        "id": "bIAbJM5bINQ_"
      }
    },
    {
      "cell_type": "code",
      "source": [
        "name = 'Bruce Wayne'\n",
        "hero_name = 'Batman'\n",
        "skills = ['Fighting','Super Intelligence','etc.']\n",
        "creator = 'Bob kane'\n",
        "created_in = 1939"
      ],
      "metadata": {
        "id": "5cmAiK-YOS86"
      },
      "execution_count": null,
      "outputs": []
    },
    {
      "cell_type": "code",
      "source": [
        "x = 1\n",
        "y = 987654321\n",
        "z = -987654"
      ],
      "metadata": {
        "id": "bPibHXEnMUTt"
      },
      "execution_count": null,
      "outputs": []
    },
    {
      "cell_type": "code",
      "source": [
        "x\n"
      ],
      "metadata": {
        "colab": {
          "base_uri": "https://localhost:8080/"
        },
        "id": "UZDN3nNkOGC-",
        "outputId": "f183272c-744d-4dea-c927-1c2b2bf908b6"
      },
      "execution_count": null,
      "outputs": [
        {
          "output_type": "execute_result",
          "data": {
            "text/plain": [
              "1"
            ]
          },
          "metadata": {},
          "execution_count": 18
        }
      ]
    },
    {
      "cell_type": "code",
      "source": [
        "y"
      ],
      "metadata": {
        "colab": {
          "base_uri": "https://localhost:8080/"
        },
        "id": "YkG5V-iQOYZc",
        "outputId": "7d3d3711-a24e-463f-907a-41605e34a2f1"
      },
      "execution_count": null,
      "outputs": [
        {
          "output_type": "execute_result",
          "data": {
            "text/plain": [
              "987654321"
            ]
          },
          "metadata": {},
          "execution_count": 15
        }
      ]
    },
    {
      "cell_type": "code",
      "source": [
        "z"
      ],
      "metadata": {
        "colab": {
          "base_uri": "https://localhost:8080/"
        },
        "id": "jrNxRN_zOcX0",
        "outputId": "4fe0d2e3-85e2-4bb5-b72e-7e0eec361939"
      },
      "execution_count": null,
      "outputs": [
        {
          "output_type": "execute_result",
          "data": {
            "text/plain": [
              "-987654"
            ]
          },
          "metadata": {},
          "execution_count": 16
        }
      ]
    },
    {
      "cell_type": "code",
      "source": [
        "type(x)"
      ],
      "metadata": {
        "colab": {
          "base_uri": "https://localhost:8080/"
        },
        "id": "0OsbtAQWOdbZ",
        "outputId": "8ace462f-3d20-40cb-cb11-276be0bf9b2f"
      },
      "execution_count": null,
      "outputs": [
        {
          "output_type": "execute_result",
          "data": {
            "text/plain": [
              "int"
            ]
          },
          "metadata": {},
          "execution_count": 19
        }
      ]
    },
    {
      "cell_type": "code",
      "source": [
        "type(name)"
      ],
      "metadata": {
        "colab": {
          "base_uri": "https://localhost:8080/"
        },
        "id": "WmLQO_ZSOp-H",
        "outputId": "f1d63f93-33d2-4710-a6ba-76784884da1d"
      },
      "execution_count": null,
      "outputs": [
        {
          "output_type": "execute_result",
          "data": {
            "text/plain": [
              "str"
            ]
          },
          "metadata": {},
          "execution_count": 20
        }
      ]
    },
    {
      "cell_type": "code",
      "source": [
        "x = 1.10\n",
        "y = 9.8\n",
        "z = -65.76\n",
        "e = 43.9e100"
      ],
      "metadata": {
        "id": "ZKJFU-x4Os2o"
      },
      "execution_count": null,
      "outputs": []
    },
    {
      "cell_type": "code",
      "source": [
        "e"
      ],
      "metadata": {
        "colab": {
          "base_uri": "https://localhost:8080/"
        },
        "id": "cAdbFul4PD48",
        "outputId": "978f3d86-4b63-4045-b3ef-eecdee004271"
      },
      "execution_count": null,
      "outputs": [
        {
          "output_type": "execute_result",
          "data": {
            "text/plain": [
              "4.39e+101"
            ]
          },
          "metadata": {},
          "execution_count": 23
        }
      ]
    },
    {
      "cell_type": "code",
      "source": [
        "name = 'Bruce Wayne'\n",
        "color = 'yellow'\n",
        "Institute = 'Digipodium'"
      ],
      "metadata": {
        "id": "fY9h42iGPJix"
      },
      "execution_count": null,
      "outputs": []
    },
    {
      "cell_type": "code",
      "source": [
        "color"
      ],
      "metadata": {
        "colab": {
          "base_uri": "https://localhost:8080/",
          "height": 36
        },
        "id": "vP1dCngHP3Qc",
        "outputId": "cda01711-c74c-4cbe-b96f-1deed81cc4e1"
      },
      "execution_count": null,
      "outputs": [
        {
          "output_type": "execute_result",
          "data": {
            "application/vnd.google.colaboratory.intrinsic+json": {
              "type": "string"
            },
            "text/plain": [
              "'yellow'"
            ]
          },
          "metadata": {},
          "execution_count": 25
        }
      ]
    },
    {
      "cell_type": "code",
      "source": [
        "Institute"
      ],
      "metadata": {
        "colab": {
          "base_uri": "https://localhost:8080/",
          "height": 36
        },
        "id": "V7-CX88UP9e2",
        "outputId": "05a4fcfc-5589-4e76-e27a-e79fc3678770"
      },
      "execution_count": null,
      "outputs": [
        {
          "output_type": "execute_result",
          "data": {
            "application/vnd.google.colaboratory.intrinsic+json": {
              "type": "string"
            },
            "text/plain": [
              "'Digipodium'"
            ]
          },
          "metadata": {},
          "execution_count": 26
        }
      ]
    },
    {
      "cell_type": "code",
      "source": [
        "kahani = '''this is story of one person\n",
        "who was not learning to code\n",
        "one day that person '''"
      ],
      "metadata": {
        "id": "qY3G6nW3QI3z"
      },
      "execution_count": null,
      "outputs": []
    },
    {
      "cell_type": "code",
      "source": [
        "type(kahani)"
      ],
      "metadata": {
        "colab": {
          "base_uri": "https://localhost:8080/"
        },
        "id": "WH3nLhfxQzbz",
        "outputId": "475a8168-4e45-470f-daf3-552d632e1467"
      },
      "execution_count": null,
      "outputs": [
        {
          "output_type": "execute_result",
          "data": {
            "text/plain": [
              "str"
            ]
          },
          "metadata": {},
          "execution_count": 29
        }
      ]
    },
    {
      "cell_type": "code",
      "source": [
        "is_coding = True\n",
        "is_fun = True\n",
        "are_u_bored = False"
      ],
      "metadata": {
        "id": "OLYAA97EQ-aQ"
      },
      "execution_count": null,
      "outputs": []
    },
    {
      "cell_type": "code",
      "source": [
        "is_coding"
      ],
      "metadata": {
        "colab": {
          "base_uri": "https://localhost:8080/"
        },
        "id": "jB8oN2PeRQoc",
        "outputId": "921d077b-de84-4fec-835b-73c1f785605d"
      },
      "execution_count": null,
      "outputs": [
        {
          "output_type": "execute_result",
          "data": {
            "text/plain": [
              "True"
            ]
          },
          "metadata": {},
          "execution_count": 31
        }
      ]
    },
    {
      "cell_type": "code",
      "source": [
        "x = None"
      ],
      "metadata": {
        "id": "ZBOfn43URVR8"
      },
      "execution_count": null,
      "outputs": []
    },
    {
      "cell_type": "code",
      "source": [
        "a = [5,10,15,20,25,30,35,40,45,50] #in sequence , or  in order\n",
        "vals =[1,2.2,'python']\n",
        "colors = ['red','green','yellow']         # values can be  change"
      ],
      "metadata": {
        "id": "DjwD1K_ESA-m"
      },
      "execution_count": null,
      "outputs": []
    },
    {
      "cell_type": "code",
      "source": [
        "a"
      ],
      "metadata": {
        "colab": {
          "base_uri": "https://localhost:8080/"
        },
        "id": "Jxe1SvWSTiBp",
        "outputId": "4ff44bc7-b517-4b5a-ecf0-9f18bf9973b5"
      },
      "execution_count": null,
      "outputs": [
        {
          "output_type": "execute_result",
          "data": {
            "text/plain": [
              "[5, 10, 15, 20, 25, 30, 35, 40, 45, 50]"
            ]
          },
          "metadata": {},
          "execution_count": 43
        }
      ]
    },
    {
      "cell_type": "code",
      "source": [
        "a = (5,10,15,20,25,30,35,40,45,50 )\n",
        "vals = ( 1,2.2,'python')                #values don't change during execution\n",
        "colors = ('red','green','yellow')"
      ],
      "metadata": {
        "id": "_RV7zlBoTqZZ"
      },
      "execution_count": null,
      "outputs": []
    },
    {
      "cell_type": "code",
      "source": [
        "a = {5,10,15,20,25,30,35,40,45,50}\n",
        "vals = {1,2.2,'python'}# values can be change only tuples cannot be changed\n",
        "colors = {'red','green','yellow'}"
      ],
      "metadata": {
        "id": "3EqsEeU0U9Id"
      },
      "execution_count": null,
      "outputs": []
    },
    {
      "cell_type": "code",
      "source": [
        "cars_info = { \n",
        "    'brand': 'Ford',\n",
        "     'model': 'Mustang',   # comma is important\n",
        "     'year':  1964    \n",
        "}"
      ],
      "metadata": {
        "id": "3GRH4U8YVTLk"
      },
      "execution_count": null,
      "outputs": []
    },
    {
      "cell_type": "code",
      "source": [
        ""
      ],
      "metadata": {
        "id": "OWpHc9HuWGB5"
      },
      "execution_count": null,
      "outputs": []
    }
  ]
}