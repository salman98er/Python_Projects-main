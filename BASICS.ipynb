{
  "cells": [
    {
      "cell_type": "markdown",
      "metadata": {
        "colab_type": "text",
        "id": "view-in-github"
      },
      "source": [
        "<a href=\"https://colab.research.google.com/github/salman98er/Python_Projects/blob/main/BASICS.ipynb\" target=\"_parent\"><img src=\"https://colab.research.google.com/assets/colab-badge.svg\" alt=\"Open In Colab\"/></a>"
      ]
    },
    {
      "cell_type": "code",
      "execution_count": null,
      "metadata": {
        "colab": {
          "base_uri": "https://localhost:8080/"
        },
        "id": "E4pCSWsdAO30",
        "outputId": "300b5e47-6e3d-47db-d150-6909322a5c46"
      },
      "outputs": [
        {
          "data": {
            "text/plain": [
              "4"
            ]
          },
          "execution_count": 1,
          "metadata": {},
          "output_type": "execute_result"
        }
      ],
      "source": [
        "2 +2"
      ]
    },
    {
      "cell_type": "code",
      "execution_count": null,
      "metadata": {},
      "outputs": [
        {
          "ename": "",
          "evalue": "",
          "output_type": "error",
          "traceback": [
            "\u001b[1;31mThe kernel failed to start due to the missing module 'jupyter_client'. Consider installing this module.\n",
            "Click <a href='https://aka.ms/kernelFailuresMissingModule'>here</a> for more info."
          ]
        }
      ],
      "source": [
        "import pandas"
      ]
    },
    {
      "cell_type": "markdown",
      "metadata": {
        "id": "c6piSKBLB2xQ"
      },
      "source": [
        "Basics of Python\n",
        "# ARITHMATIC OPERATORS \n",
        "#ADD +\n",
        "#SUB -\n",
        "#MUL *\n",
        "#NORMAL DIV / ( REAL NO.)\n",
        "#INTEGER DIV // ( WHOLE NO.)\n",
        "#MODULUS % (REMAINDER)\n",
        "#EXPONENT ** (POWER)\n",
        "\n"
      ]
    },
    {
      "cell_type": "code",
      "execution_count": null,
      "metadata": {
        "colab": {
          "base_uri": "https://localhost:8080/"
        },
        "id": "ymqYODuhBjKA",
        "outputId": "c1ddf9fd-4758-4669-c11b-74c6533acd2b"
      },
      "outputs": [
        {
          "data": {
            "text/plain": [
              "-7"
            ]
          },
          "execution_count": 2,
          "metadata": {},
          "output_type": "execute_result"
        }
      ],
      "source": [
        "3-10"
      ]
    },
    {
      "cell_type": "code",
      "execution_count": null,
      "metadata": {
        "colab": {
          "base_uri": "https://localhost:8080/"
        },
        "id": "xPYWIaZ_B-po",
        "outputId": "5c11a084-426c-4890-ec10-000b58626f5a"
      },
      "outputs": [
        {
          "data": {
            "text/plain": [
              "40467"
            ]
          },
          "execution_count": 3,
          "metadata": {},
          "output_type": "execute_result"
        }
      ],
      "source": [
        "329*123"
      ]
    },
    {
      "cell_type": "code",
      "execution_count": null,
      "metadata": {
        "colab": {
          "base_uri": "https://localhost:8080/"
        },
        "id": "lyV2Iug0CJBD",
        "outputId": "5209809f-07bc-43d0-e133-75b694a6eddb"
      },
      "outputs": [
        {
          "data": {
            "text/plain": [
              "2.0"
            ]
          },
          "execution_count": 4,
          "metadata": {},
          "output_type": "execute_result"
        }
      ],
      "source": [
        "6/3"
      ]
    },
    {
      "cell_type": "code",
      "execution_count": null,
      "metadata": {
        "colab": {
          "base_uri": "https://localhost:8080/"
        },
        "id": "J0Fzc9TlDY5E",
        "outputId": "f9533e37-9e21-4f9e-9dce-57867bbb7663"
      },
      "outputs": [
        {
          "data": {
            "text/plain": [
              "10.0"
            ]
          },
          "execution_count": 6,
          "metadata": {},
          "output_type": "execute_result"
        }
      ],
      "source": [
        "50/5"
      ]
    },
    {
      "cell_type": "code",
      "execution_count": null,
      "metadata": {
        "colab": {
          "base_uri": "https://localhost:8080/"
        },
        "id": "_vIFql9DDjL9",
        "outputId": "4de0ffcb-6e39-4c0e-cd7e-da5d0650fe33"
      },
      "outputs": [
        {
          "data": {
            "text/plain": [
              "3.3333333333333335"
            ]
          },
          "execution_count": 7,
          "metadata": {},
          "output_type": "execute_result"
        }
      ],
      "source": [
        "10/3"
      ]
    },
    {
      "cell_type": "code",
      "execution_count": null,
      "metadata": {
        "colab": {
          "base_uri": "https://localhost:8080/"
        },
        "id": "EFFh0zYZEuRJ",
        "outputId": "a47f04bf-c147-4cff-86f9-b3a5669d8662"
      },
      "outputs": [
        {
          "data": {
            "text/plain": [
              "3"
            ]
          },
          "execution_count": 8,
          "metadata": {},
          "output_type": "execute_result"
        }
      ],
      "source": [
        "10//3"
      ]
    },
    {
      "cell_type": "code",
      "execution_count": null,
      "metadata": {
        "colab": {
          "base_uri": "https://localhost:8080/"
        },
        "id": "3llZYugYEzBH",
        "outputId": "1058ea06-628b-485a-aac3-a90878c0bd1f"
      },
      "outputs": [
        {
          "data": {
            "text/plain": [
              "1000"
            ]
          },
          "execution_count": 9,
          "metadata": {},
          "output_type": "execute_result"
        }
      ],
      "source": [
        "10**3"
      ]
    },
    {
      "cell_type": "markdown",
      "metadata": {
        "id": "ZKeEKKRVFUdw"
      },
      "source": [
        "# COMPARISON OPERATORS\n",
        "\n",
        "*   List item\n",
        "*   List item\n",
        "\n",
        "\n",
        "<,>,<=,>=,==,!=\n"
      ]
    },
    {
      "cell_type": "code",
      "execution_count": null,
      "metadata": {
        "colab": {
          "base_uri": "https://localhost:8080/"
        },
        "id": "XJx-5ZwHE16u",
        "outputId": "d9208f53-e364-4623-c49d-e8e7936178cb"
      },
      "outputs": [
        {
          "data": {
            "text/plain": [
              "True"
            ]
          },
          "execution_count": 11,
          "metadata": {},
          "output_type": "execute_result"
        }
      ],
      "source": [
        "3298>3000"
      ]
    },
    {
      "cell_type": "code",
      "execution_count": null,
      "metadata": {
        "colab": {
          "base_uri": "https://localhost:8080/"
        },
        "id": "GJWPxmmiFr-Z",
        "outputId": "7e8950c4-32fe-478f-e5d9-03a1d90aeaae"
      },
      "outputs": [
        {
          "data": {
            "text/plain": [
              "False"
            ]
          },
          "execution_count": 12,
          "metadata": {},
          "output_type": "execute_result"
        }
      ],
      "source": [
        "345<123"
      ]
    },
    {
      "cell_type": "code",
      "execution_count": null,
      "metadata": {
        "colab": {
          "base_uri": "https://localhost:8080/"
        },
        "id": "Ano3rXCoGBNN",
        "outputId": "6ecea4a7-d484-4226-e421-c21d5f6fae65"
      },
      "outputs": [
        {
          "data": {
            "text/plain": [
              "True"
            ]
          },
          "execution_count": 13,
          "metadata": {},
          "output_type": "execute_result"
        }
      ],
      "source": [
        "100==100"
      ]
    },
    {
      "cell_type": "code",
      "execution_count": null,
      "metadata": {
        "colab": {
          "base_uri": "https://localhost:8080/",
          "height": 36
        },
        "id": "RXR7ppkbGDzR",
        "outputId": "e55873f9-f682-49f7-ec22-7b92d11e83aa"
      },
      "outputs": [
        {
          "data": {
            "application/vnd.google.colaboratory.intrinsic+json": {
              "type": "string"
            },
            "text/plain": [
              "'HELLO'"
            ]
          },
          "execution_count": 14,
          "metadata": {},
          "output_type": "execute_result"
        }
      ],
      "source": [
        "'HELLO'"
      ]
    },
    {
      "cell_type": "code",
      "execution_count": null,
      "metadata": {
        "colab": {
          "base_uri": "https://localhost:8080/",
          "height": 36
        },
        "id": "wisgqCSCGWSd",
        "outputId": "2f845e05-77a9-46bc-802c-2a0fd05ea3e2"
      },
      "outputs": [
        {
          "data": {
            "application/vnd.google.colaboratory.intrinsic+json": {
              "type": "string"
            },
            "text/plain": [
              "'THIS IS A SIMPLE TEXT'"
            ]
          },
          "execution_count": 15,
          "metadata": {},
          "output_type": "execute_result"
        }
      ],
      "source": [
        "'THIS IS A SIMPLE TEXT'"
      ]
    },
    {
      "cell_type": "code",
      "execution_count": null,
      "metadata": {
        "colab": {
          "base_uri": "https://localhost:8080/",
          "height": 36
        },
        "id": "VxJ47jHiGgqm",
        "outputId": "7cae4603-02fb-4635-967a-ff09cc67b5dc"
      },
      "outputs": [
        {
          "data": {
            "application/vnd.google.colaboratory.intrinsic+json": {
              "type": "string"
            },
            "text/plain": [
              "'THIS IS MESSAGE IN DOUBLE QUOTES'"
            ]
          },
          "execution_count": 17,
          "metadata": {},
          "output_type": "execute_result"
        }
      ],
      "source": [
        "\"THIS IS MESSAGE IN DOUBLE QUOTES\" #ONLY SINGLE LINE"
      ]
    },
    {
      "cell_type": "code",
      "execution_count": null,
      "metadata": {
        "colab": {
          "base_uri": "https://localhost:8080/",
          "height": 36
        },
        "id": "xdXAPq3_GtAQ",
        "outputId": "10c29b2c-5034-4e47-a214-3ae577d95a60"
      },
      "outputs": [
        {
          "data": {
            "application/vnd.google.colaboratory.intrinsic+json": {
              "type": "string"
            },
            "text/plain": [
              "'THIS IS SPARTA'"
            ]
          },
          "execution_count": 18,
          "metadata": {},
          "output_type": "execute_result"
        }
      ],
      "source": [
        "'''THIS IS SPARTA'''"
      ]
    },
    {
      "cell_type": "code",
      "execution_count": null,
      "metadata": {
        "colab": {
          "base_uri": "https://localhost:8080/",
          "height": 36
        },
        "id": "pueUXUAZG5Yi",
        "outputId": "a54eeff3-00da-4885-ae50-1d9ccabf0075"
      },
      "outputs": [
        {
          "data": {
            "application/vnd.google.colaboratory.intrinsic+json": {
              "type": "string"
            },
            "text/plain": [
              "'TWINKLE TWINKLE LITTLE STAR\\nBLAH\\n'"
            ]
          },
          "execution_count": 20,
          "metadata": {},
          "output_type": "execute_result"
        }
      ],
      "source": [
        "'''TWINKLE TWINKLE LITTLE STAR  \n",
        "BLAH\n",
        "'''   #MULTIPLE LINES"
      ]
    },
    {
      "cell_type": "code",
      "execution_count": null,
      "metadata": {
        "id": "wzxuEU5EHMrq"
      },
      "outputs": [],
      "source": [
        "name='Mohd Salman'"
      ]
    },
    {
      "cell_type": "code",
      "execution_count": null,
      "metadata": {
        "colab": {
          "base_uri": "https://localhost:8080/",
          "height": 36
        },
        "id": "JeHsEuflIS3A",
        "outputId": "321692b5-77fb-4dd8-90ec-da9ec99dca6a"
      },
      "outputs": [
        {
          "data": {
            "application/vnd.google.colaboratory.intrinsic+json": {
              "type": "string"
            },
            "text/plain": [
              "'Mohd Salman'"
            ]
          },
          "execution_count": 22,
          "metadata": {},
          "output_type": "execute_result"
        }
      ],
      "source": [
        "name"
      ]
    },
    {
      "cell_type": "code",
      "execution_count": null,
      "metadata": {
        "colab": {
          "base_uri": "https://localhost:8080/"
        },
        "id": "id3Ls8caJEfp",
        "outputId": "b7f3606e-8286-4330-8ab1-16ccaa564d84"
      },
      "outputs": [
        {
          "data": {
            "text/plain": [
              "13"
            ]
          },
          "execution_count": 27,
          "metadata": {},
          "output_type": "execute_result"
        }
      ],
      "source": [
        "a = 10\n",
        "b = 3\n",
        "a+b"
      ]
    },
    {
      "cell_type": "code",
      "execution_count": null,
      "metadata": {
        "colab": {
          "base_uri": "https://localhost:8080/"
        },
        "id": "MoKe6gC5JITz",
        "outputId": "0464e189-385d-4dc4-f29c-92cbe5863f00"
      },
      "outputs": [
        {
          "data": {
            "text/plain": [
              "7"
            ]
          },
          "execution_count": 28,
          "metadata": {},
          "output_type": "execute_result"
        }
      ],
      "source": [
        " a- b"
      ]
    },
    {
      "cell_type": "code",
      "execution_count": null,
      "metadata": {
        "colab": {
          "base_uri": "https://localhost:8080/"
        },
        "id": "0GHXXBGvJuiQ",
        "outputId": "f0943f7f-8dbc-44b9-d7a7-fba91d397174"
      },
      "outputs": [
        {
          "data": {
            "text/plain": [
              "59049"
            ]
          },
          "execution_count": 29,
          "metadata": {},
          "output_type": "execute_result"
        }
      ],
      "source": [
        "b**a"
      ]
    },
    {
      "cell_type": "code",
      "execution_count": null,
      "metadata": {
        "colab": {
          "base_uri": "https://localhost:8080/"
        },
        "id": "I_FSeJLuJxD3",
        "outputId": "5b147f40-f62b-4668-fed5-1e3b62cf8a78"
      },
      "outputs": [
        {
          "data": {
            "text/plain": [
              "2"
            ]
          },
          "execution_count": 30,
          "metadata": {},
          "output_type": "execute_result"
        }
      ],
      "source": [
        "a//4"
      ]
    },
    {
      "cell_type": "code",
      "execution_count": null,
      "metadata": {
        "id": "wvsPJk6AJ7Qx"
      },
      "outputs": [],
      "source": [
        "college = 'BBD NIIT'\n",
        "dob = '4 nov'\n",
        "mobile = '9161473112'"
      ]
    },
    {
      "cell_type": "markdown",
      "metadata": {
        "id": "UUrVLaV_LzSr"
      },
      "source": [
        "#ERRORS\n",
        "#SYNTAX =  WRITING MEIN MISTAKE\n",
        "#EOL( END OF LINE) = MISSING INVERTED COMMA (EK TARAF KA COMMA NA LAGA HO \n",
        "# NAME ERROR ABSENCE OF VARIABLE "
      ]
    },
    {
      "cell_type": "code",
      "execution_count": null,
      "metadata": {
        "id": "MqJF9JnJKlNd"
      },
      "outputs": [],
      "source": [
        " location = 'shimla is home'\n",
        " #"
      ]
    },
    {
      "cell_type": "code",
      "execution_count": null,
      "metadata": {
        "colab": {
          "base_uri": "https://localhost:8080/",
          "height": 36
        },
        "id": "x6q4MYx5LX_a",
        "outputId": "84bdca11-b94e-4c3e-e149-62dc035e9451"
      },
      "outputs": [
        {
          "data": {
            "application/vnd.google.colaboratory.intrinsic+json": {
              "type": "string"
            },
            "text/plain": [
              "'4 nov'"
            ]
          },
          "execution_count": 34,
          "metadata": {},
          "output_type": "execute_result"
        }
      ],
      "source": [
        "dob"
      ]
    },
    {
      "cell_type": "code",
      "execution_count": null,
      "metadata": {
        "colab": {
          "base_uri": "https://localhost:8080/",
          "height": 36
        },
        "id": "FNyxM7ZZMjR3",
        "outputId": "e3f082ca-0437-4185-c676-b90159943914"
      },
      "outputs": [
        {
          "data": {
            "application/vnd.google.colaboratory.intrinsic+json": {
              "type": "string"
            },
            "text/plain": [
              "'Mohd Salman'"
            ]
          },
          "execution_count": 36,
          "metadata": {},
          "output_type": "execute_result"
        }
      ],
      "source": [
        "name"
      ]
    },
    {
      "cell_type": "code",
      "execution_count": null,
      "metadata": {
        "colab": {
          "base_uri": "https://localhost:8080/",
          "height": 36
        },
        "id": "ipIG65KmMoAT",
        "outputId": "e6d53e16-bbde-4710-8927-3ae696ddf54f"
      },
      "outputs": [
        {
          "data": {
            "application/vnd.google.colaboratory.intrinsic+json": {
              "type": "string"
            },
            "text/plain": [
              "'shimla is home'"
            ]
          },
          "execution_count": 40,
          "metadata": {},
          "output_type": "execute_result"
        }
      ],
      "source": [
        "location"
      ]
    },
    {
      "cell_type": "markdown",
      "metadata": {
        "id": "WitzlhZCM-v4"
      },
      "source": [
        "#STRING OPERATORS\n"
      ]
    },
    {
      "cell_type": "code",
      "execution_count": null,
      "metadata": {
        "colab": {
          "base_uri": "https://localhost:8080/"
        },
        "id": "euRIrhiiMwXf",
        "outputId": "97a668df-1af1-4a1e-a3f4-b1779c393df8"
      },
      "outputs": [
        {
          "data": {
            "text/plain": [
              "44"
            ]
          },
          "execution_count": 1,
          "metadata": {},
          "output_type": "execute_result"
        }
      ],
      "source": [
        "12+32"
      ]
    },
    {
      "cell_type": "code",
      "execution_count": null,
      "metadata": {
        "colab": {
          "base_uri": "https://localhost:8080/",
          "height": 36
        },
        "id": "WJpfc2FDNHpT",
        "outputId": "69b3b3aa-f904-4089-f6b4-35a9bd1faf52"
      },
      "outputs": [
        {
          "data": {
            "application/vnd.google.colaboratory.intrinsic+json": {
              "type": "string"
            },
            "text/plain": [
              "'HELLOWORLD'"
            ]
          },
          "execution_count": 2,
          "metadata": {},
          "output_type": "execute_result"
        }
      ],
      "source": [
        "'HELLO'+ 'WORLD' # CONCATANATION"
      ]
    },
    {
      "cell_type": "code",
      "execution_count": null,
      "metadata": {
        "colab": {
          "base_uri": "https://localhost:8080/",
          "height": 36
        },
        "id": "4_oEYgSUNQz5",
        "outputId": "054098d6-383b-4196-9ead-1a3e5cbed1bb"
      },
      "outputs": [
        {
          "data": {
            "application/vnd.google.colaboratory.intrinsic+json": {
              "type": "string"
            },
            "text/plain": [
              "'MOHD'"
            ]
          },
          "execution_count": 4,
          "metadata": {},
          "output_type": "execute_result"
        }
      ],
      "source": [
        "'MOHD' "
      ]
    },
    {
      "cell_type": "code",
      "execution_count": null,
      "metadata": {
        "colab": {
          "base_uri": "https://localhost:8080/",
          "height": 191
        },
        "id": "HCouSpZdNXvB",
        "outputId": "4ae86a72-373c-4462-a6e8-417ea75d64fb"
      },
      "outputs": [
        {
          "ename": "NameError",
          "evalue": "ignored",
          "output_type": "error",
          "traceback": [
            "\u001b[0;31m---------------------------------------------------------------------------\u001b[0m",
            "\u001b[0;31mNameError\u001b[0m                                 Traceback (most recent call last)",
            "\u001b[0;32m<ipython-input-9-d8d6ed64a7c0>\u001b[0m in \u001b[0;36m<module>\u001b[0;34m()\u001b[0m\n\u001b[0;32m----> 1\u001b[0;31m \u001b[0ma\u001b[0m \u001b[0;34m+\u001b[0m \u001b[0mname\u001b[0m\u001b[0;34m\u001b[0m\u001b[0;34m\u001b[0m\u001b[0m\n\u001b[0m\u001b[1;32m      2\u001b[0m \u001b[0;31m# string cannot be added to nos.\u001b[0m\u001b[0;34m\u001b[0m\u001b[0;34m\u001b[0m\u001b[0;34m\u001b[0m\u001b[0m\n",
            "\u001b[0;31mNameError\u001b[0m: name 'a' is not defined"
          ]
        }
      ],
      "source": [
        "a + name\n",
        "# string cannot be added to nos."
      ]
    },
    {
      "cell_type": "code",
      "execution_count": null,
      "metadata": {
        "colab": {
          "base_uri": "https://localhost:8080/",
          "height": 36
        },
        "id": "NWr3_zYmNiw3",
        "outputId": "7f217d41-bc52-4996-b53a-936677cdfe46"
      },
      "outputs": [
        {
          "data": {
            "application/vnd.google.colaboratory.intrinsic+json": {
              "type": "string"
            },
            "text/plain": [
              "'andandandandandandandandandand'"
            ]
          },
          "execution_count": 6,
          "metadata": {},
          "output_type": "execute_result"
        }
      ],
      "source": [
        "'and'*10"
      ]
    },
    {
      "cell_type": "code",
      "execution_count": null,
      "metadata": {
        "colab": {
          "base_uri": "https://localhost:8080/",
          "height": 36
        },
        "id": "mn4RGGAdN-48",
        "outputId": "c636ee68-b500-4e2f-e63b-fe0a25038a90"
      },
      "outputs": [
        {
          "data": {
            "application/vnd.google.colaboratory.intrinsic+json": {
              "type": "string"
            },
            "text/plain": [
              "'++++++++++'"
            ]
          },
          "execution_count": 7,
          "metadata": {},
          "output_type": "execute_result"
        }
      ],
      "source": [
        "'+'*10"
      ]
    },
    {
      "cell_type": "code",
      "execution_count": null,
      "metadata": {
        "colab": {
          "base_uri": "https://localhost:8080/",
          "height": 36
        },
        "id": "jit8PbN5OKm-",
        "outputId": "77815fa0-07e8-4726-f420-bbc5daad43f6"
      },
      "outputs": [
        {
          "data": {
            "application/vnd.google.colaboratory.intrinsic+json": {
              "type": "string"
            },
            "text/plain": [
              "'Mohd SalmanMohd SalmanMohd SalmanMohd SalmanMohd SalmanMohd SalmanMohd SalmanMohd SalmanMohd SalmanMohd Salman'"
            ]
          },
          "execution_count": 10,
          "metadata": {},
          "output_type": "execute_result"
        }
      ],
      "source": [
        "name = 'Mohd Salman'\n",
        "name*10"
      ]
    },
    {
      "cell_type": "markdown",
      "metadata": {
        "id": "bIAbJM5bINQ_"
      },
      "source": [
        "#Variable\n"
      ]
    },
    {
      "cell_type": "code",
      "execution_count": null,
      "metadata": {
        "id": "5cmAiK-YOS86"
      },
      "outputs": [],
      "source": [
        "name = 'Bruce Wayne'\n",
        "hero_name = 'Batman'\n",
        "skills = ['Fighting','Super Intelligence','etc.']\n",
        "creator = 'Bob kane'\n",
        "created_in = 1939"
      ]
    },
    {
      "cell_type": "code",
      "execution_count": null,
      "metadata": {
        "id": "bPibHXEnMUTt"
      },
      "outputs": [],
      "source": [
        "x = 1\n",
        "y = 987654321\n",
        "z = -987654"
      ]
    },
    {
      "cell_type": "code",
      "execution_count": null,
      "metadata": {
        "colab": {
          "base_uri": "https://localhost:8080/"
        },
        "id": "UZDN3nNkOGC-",
        "outputId": "f183272c-744d-4dea-c927-1c2b2bf908b6"
      },
      "outputs": [
        {
          "data": {
            "text/plain": [
              "1"
            ]
          },
          "execution_count": 18,
          "metadata": {},
          "output_type": "execute_result"
        }
      ],
      "source": [
        "x\n"
      ]
    },
    {
      "cell_type": "code",
      "execution_count": null,
      "metadata": {
        "colab": {
          "base_uri": "https://localhost:8080/"
        },
        "id": "YkG5V-iQOYZc",
        "outputId": "7d3d3711-a24e-463f-907a-41605e34a2f1"
      },
      "outputs": [
        {
          "data": {
            "text/plain": [
              "987654321"
            ]
          },
          "execution_count": 15,
          "metadata": {},
          "output_type": "execute_result"
        }
      ],
      "source": [
        "y"
      ]
    },
    {
      "cell_type": "code",
      "execution_count": null,
      "metadata": {
        "colab": {
          "base_uri": "https://localhost:8080/"
        },
        "id": "jrNxRN_zOcX0",
        "outputId": "4fe0d2e3-85e2-4bb5-b72e-7e0eec361939"
      },
      "outputs": [
        {
          "data": {
            "text/plain": [
              "-987654"
            ]
          },
          "execution_count": 16,
          "metadata": {},
          "output_type": "execute_result"
        }
      ],
      "source": [
        "z"
      ]
    },
    {
      "cell_type": "code",
      "execution_count": null,
      "metadata": {
        "colab": {
          "base_uri": "https://localhost:8080/"
        },
        "id": "0OsbtAQWOdbZ",
        "outputId": "8ace462f-3d20-40cb-cb11-276be0bf9b2f"
      },
      "outputs": [
        {
          "data": {
            "text/plain": [
              "int"
            ]
          },
          "execution_count": 19,
          "metadata": {},
          "output_type": "execute_result"
        }
      ],
      "source": [
        "type(x)"
      ]
    },
    {
      "cell_type": "code",
      "execution_count": null,
      "metadata": {
        "colab": {
          "base_uri": "https://localhost:8080/"
        },
        "id": "WmLQO_ZSOp-H",
        "outputId": "f1d63f93-33d2-4710-a6ba-76784884da1d"
      },
      "outputs": [
        {
          "data": {
            "text/plain": [
              "str"
            ]
          },
          "execution_count": 20,
          "metadata": {},
          "output_type": "execute_result"
        }
      ],
      "source": [
        "type(name)"
      ]
    },
    {
      "cell_type": "code",
      "execution_count": null,
      "metadata": {
        "id": "ZKJFU-x4Os2o"
      },
      "outputs": [],
      "source": [
        "x = 1.10\n",
        "y = 9.8\n",
        "z = -65.76\n",
        "e = 43.9e100"
      ]
    },
    {
      "cell_type": "code",
      "execution_count": null,
      "metadata": {
        "colab": {
          "base_uri": "https://localhost:8080/"
        },
        "id": "cAdbFul4PD48",
        "outputId": "978f3d86-4b63-4045-b3ef-eecdee004271"
      },
      "outputs": [
        {
          "data": {
            "text/plain": [
              "4.39e+101"
            ]
          },
          "execution_count": 23,
          "metadata": {},
          "output_type": "execute_result"
        }
      ],
      "source": [
        "e"
      ]
    },
    {
      "cell_type": "code",
      "execution_count": null,
      "metadata": {
        "id": "fY9h42iGPJix"
      },
      "outputs": [],
      "source": [
        "name = 'Bruce Wayne'\n",
        "color = 'yellow'\n",
        "Institute = 'Digipodium'"
      ]
    },
    {
      "cell_type": "code",
      "execution_count": null,
      "metadata": {
        "colab": {
          "base_uri": "https://localhost:8080/",
          "height": 36
        },
        "id": "vP1dCngHP3Qc",
        "outputId": "cda01711-c74c-4cbe-b96f-1deed81cc4e1"
      },
      "outputs": [
        {
          "data": {
            "application/vnd.google.colaboratory.intrinsic+json": {
              "type": "string"
            },
            "text/plain": [
              "'yellow'"
            ]
          },
          "execution_count": 25,
          "metadata": {},
          "output_type": "execute_result"
        }
      ],
      "source": [
        "color"
      ]
    },
    {
      "cell_type": "code",
      "execution_count": null,
      "metadata": {
        "colab": {
          "base_uri": "https://localhost:8080/",
          "height": 36
        },
        "id": "V7-CX88UP9e2",
        "outputId": "05a4fcfc-5589-4e76-e27a-e79fc3678770"
      },
      "outputs": [
        {
          "data": {
            "application/vnd.google.colaboratory.intrinsic+json": {
              "type": "string"
            },
            "text/plain": [
              "'Digipodium'"
            ]
          },
          "execution_count": 26,
          "metadata": {},
          "output_type": "execute_result"
        }
      ],
      "source": [
        "Institute"
      ]
    },
    {
      "cell_type": "code",
      "execution_count": null,
      "metadata": {
        "id": "qY3G6nW3QI3z"
      },
      "outputs": [],
      "source": [
        "kahani = '''this is story of one person\n",
        "who was not learning to code\n",
        "one day that person '''"
      ]
    },
    {
      "cell_type": "code",
      "execution_count": null,
      "metadata": {
        "colab": {
          "base_uri": "https://localhost:8080/"
        },
        "id": "WH3nLhfxQzbz",
        "outputId": "475a8168-4e45-470f-daf3-552d632e1467"
      },
      "outputs": [
        {
          "data": {
            "text/plain": [
              "str"
            ]
          },
          "execution_count": 29,
          "metadata": {},
          "output_type": "execute_result"
        }
      ],
      "source": [
        "type(kahani)"
      ]
    },
    {
      "cell_type": "code",
      "execution_count": null,
      "metadata": {
        "id": "OLYAA97EQ-aQ"
      },
      "outputs": [],
      "source": [
        "is_coding = True\n",
        "is_fun = True\n",
        "are_u_bored = False"
      ]
    },
    {
      "cell_type": "code",
      "execution_count": null,
      "metadata": {
        "colab": {
          "base_uri": "https://localhost:8080/"
        },
        "id": "jB8oN2PeRQoc",
        "outputId": "921d077b-de84-4fec-835b-73c1f785605d"
      },
      "outputs": [
        {
          "data": {
            "text/plain": [
              "True"
            ]
          },
          "execution_count": 31,
          "metadata": {},
          "output_type": "execute_result"
        }
      ],
      "source": [
        "is_coding"
      ]
    },
    {
      "cell_type": "code",
      "execution_count": null,
      "metadata": {
        "id": "ZBOfn43URVR8"
      },
      "outputs": [],
      "source": [
        "x = None"
      ]
    },
    {
      "cell_type": "code",
      "execution_count": null,
      "metadata": {
        "id": "DjwD1K_ESA-m"
      },
      "outputs": [],
      "source": [
        "a = [5,10,15,20,25,30,35,40,45,50] #in sequence , or  in order\n",
        "vals =[1,2.2,'python']\n",
        "colors = ['red','green','yellow']         # values can be  change"
      ]
    },
    {
      "cell_type": "code",
      "execution_count": null,
      "metadata": {
        "colab": {
          "base_uri": "https://localhost:8080/"
        },
        "id": "Jxe1SvWSTiBp",
        "outputId": "4ff44bc7-b517-4b5a-ecf0-9f18bf9973b5"
      },
      "outputs": [
        {
          "data": {
            "text/plain": [
              "[5, 10, 15, 20, 25, 30, 35, 40, 45, 50]"
            ]
          },
          "execution_count": 43,
          "metadata": {},
          "output_type": "execute_result"
        }
      ],
      "source": [
        "a"
      ]
    },
    {
      "cell_type": "code",
      "execution_count": null,
      "metadata": {
        "id": "_RV7zlBoTqZZ"
      },
      "outputs": [],
      "source": [
        "a = (5,10,15,20,25,30,35,40,45,50 )\n",
        "vals = ( 1,2.2,'python')                #values don't change during execution\n",
        "colors = ('red','green','yellow')"
      ]
    },
    {
      "cell_type": "code",
      "execution_count": null,
      "metadata": {
        "id": "3EqsEeU0U9Id"
      },
      "outputs": [],
      "source": [
        "a = {5,10,15,20,25,30,35,40,45,50}\n",
        "vals = {1,2.2,'python'}# values can be change only tuples cannot be changed\n",
        "colors = {'red','green','yellow'}"
      ]
    },
    {
      "cell_type": "code",
      "execution_count": null,
      "metadata": {
        "id": "3GRH4U8YVTLk"
      },
      "outputs": [],
      "source": [
        "cars_info = { \n",
        "    'brand': 'Ford',\n",
        "     'model': 'Mustang',   # comma is important\n",
        "     'year':  1964    \n",
        "}"
      ]
    },
    {
      "cell_type": "code",
      "execution_count": null,
      "metadata": {
        "id": "OWpHc9HuWGB5"
      },
      "outputs": [],
      "source": []
    }
  ],
  "metadata": {
    "colab": {
      "authorship_tag": "ABX9TyO5TYSLHxO8qWtbKCmhMTg6",
      "collapsed_sections": [
        "UUrVLaV_LzSr"
      ],
      "include_colab_link": true,
      "name": "BASICS.ipynb",
      "provenance": []
    },
    "kernelspec": {
      "display_name": "Python 3",
      "name": "python3"
    },
    "language_info": {
      "name": "python",
      "version": "3.9.5"
    }
  },
  "nbformat": 4,
  "nbformat_minor": 0
}
