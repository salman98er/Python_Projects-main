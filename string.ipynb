{
 "cells": [
  {
   "cell_type": "code",
   "execution_count": 1,
   "metadata": {},
   "outputs": [
    {
     "name": "stdout",
     "output_type": "stream",
     "text": [
      "Python is great\n"
     ]
    }
   ],
   "source": [
    "x = 'Python is great'\n",
    "print(x)"
   ]
  },
  {
   "cell_type": "code",
   "execution_count": 2,
   "metadata": {},
   "outputs": [
    {
     "name": "stdout",
     "output_type": "stream",
     "text": [
      "\n"
     ]
    }
   ],
   "source": [
    "x = input(\"enter a string\")\n",
    "print(x)"
   ]
  },
  {
   "cell_type": "code",
   "execution_count": 3,
   "metadata": {},
   "outputs": [
    {
     "name": "stdout",
     "output_type": "stream",
     "text": [
      "python\n",
      "is\n",
      "everywhere\n"
     ]
    }
   ],
   "source": [
    "x = \"python is everywhere\"\n",
    "slice1 = x[:6]\n",
    "slice2 = x[7:9]\n",
    "slice3 = x[10:]\n",
    "print(slice1)\n",
    "print(slice2)\n",
    "print(slice3)"
   ]
  },
  {
   "cell_type": "code",
   "execution_count": 4,
   "metadata": {},
   "outputs": [
    {
     "name": "stdout",
     "output_type": "stream",
     "text": [
      "dlrow olleh\n"
     ]
    }
   ],
   "source": [
    "x = \"hello world\"\n",
    "slice1 = x[::-1]\n",
    "print(slice1)"
   ]
  },
  {
   "cell_type": "code",
   "execution_count": 5,
   "metadata": {},
   "outputs": [
    {
     "name": "stdout",
     "output_type": "stream",
     "text": [
      "HOW ARE U\n"
     ]
    }
   ],
   "source": [
    "x = 'how are u'\n",
    "d=x.upper()\n",
    "print(d)"
   ]
  },
  {
   "cell_type": "code",
   "execution_count": 6,
   "metadata": {},
   "outputs": [
    {
     "data": {
      "text/plain": [
       "'how is it going'"
      ]
     },
     "execution_count": 6,
     "metadata": {},
     "output_type": "execute_result"
    }
   ],
   "source": [
    "x = 'HOW IS IT GOING'\n",
    "z = x.lower()\n",
    "z"
   ]
  },
  {
   "cell_type": "code",
   "execution_count": 7,
   "metadata": {},
   "outputs": [
    {
     "data": {
      "text/plain": [
       "['python', 'is', 'easy', 'to', 'understand']"
      ]
     },
     "execution_count": 7,
     "metadata": {},
     "output_type": "execute_result"
    }
   ],
   "source": [
    "words = ['python','is','easy','to','understand']\n",
    "words"
   ]
  },
  {
   "cell_type": "code",
   "execution_count": 9,
   "metadata": {},
   "outputs": [],
   "source": [
    "st = '''pyton is easy to uderstand and \n",
    "python is very easy '''"
   ]
  },
  {
   "cell_type": "code",
   "execution_count": 10,
   "metadata": {},
   "outputs": [
    {
     "name": "stdout",
     "output_type": "stream",
     "text": [
      "pyton is easy to uderstand and \n",
      "python is very easy \n"
     ]
    }
   ],
   "source": [
    "print(st)"
   ]
  },
  {
   "cell_type": "code",
   "execution_count": 12,
   "metadata": {},
   "outputs": [
    {
     "name": "stdout",
     "output_type": "stream",
     "text": [
      "to move to new line \n",
      "is used\n"
     ]
    }
   ],
   "source": [
    "s = 'to move to new line'' \\n''is used'\n",
    "print(s)"
   ]
  },
  {
   "cell_type": "code",
   "execution_count": 13,
   "metadata": {},
   "outputs": [
    {
     "name": "stdout",
     "output_type": "stream",
     "text": [
      "the value of v is 15\n"
     ]
    }
   ],
   "source": [
    "v = 15\n",
    "print('the value of v is',v)"
   ]
  },
  {
   "cell_type": "code",
   "execution_count": 15,
   "metadata": {},
   "outputs": [
    {
     "name": "stdout",
     "output_type": "stream",
     "text": [
      "python is great\n"
     ]
    }
   ],
   "source": [
    "s1 = \"python \"\n",
    "s2 = \"is \"\n",
    "s3 = \"great\"\n",
    "print(s1+s2+s3)"
   ]
  },
  {
   "cell_type": "code",
   "execution_count": 16,
   "metadata": {},
   "outputs": [
    {
     "name": "stdout",
     "output_type": "stream",
     "text": [
      "####################\n"
     ]
    }
   ],
   "source": [
    "print(\"#\"*20)"
   ]
  },
  {
   "cell_type": "code",
   "execution_count": 23,
   "metadata": {},
   "outputs": [
    {
     "name": "stdout",
     "output_type": "stream",
     "text": [
      "1 .\n",
      "2 .\n",
      "3 .\n",
      "4 .\n",
      "5 .\n",
      "6 .\n",
      "7 .\n",
      "8 .\n",
      "9 .\n"
     ]
    }
   ],
   "source": [
    "for i in range(9):\n",
    "    print(i+1,\".\")"
   ]
  },
  {
   "cell_type": "code",
   "execution_count": 31,
   "metadata": {},
   "outputs": [
    {
     "name": "stdout",
     "output_type": "stream",
     "text": [
      "['err', 'the']\n"
     ]
    }
   ],
   "source": [
    "s = input(\"enter ur word\")\n",
    "print(s.split())"
   ]
  },
  {
   "cell_type": "code",
   "execution_count": 32,
   "metadata": {},
   "outputs": [
    {
     "name": "stdout",
     "output_type": "stream",
     "text": [
      "the tur ? ?\n"
     ]
    }
   ],
   "source": [
    "s = input('enter a string')\n",
    "if s.endswith(\"?\"):\n",
    "    print(s,\"?\")"
   ]
  },
  {
   "cell_type": "code",
   "execution_count": 35,
   "metadata": {},
   "outputs": [
    {
     "name": "stdout",
     "output_type": "stream",
     "text": [
      "the string is  the is rg\n"
     ]
    }
   ],
   "source": [
    "s = input(\"enter a no.\")\n",
    "if s.isnumeric():\n",
    "    num = int(s)\n",
    "    print(s)\n",
    "else:\n",
    "    print('the string is ',s)"
   ]
  },
  {
   "cell_type": "code",
   "execution_count": 41,
   "metadata": {},
   "outputs": [
    {
     "data": {
      "text/plain": [
       "'this is not a good string'"
      ]
     },
     "execution_count": 41,
     "metadata": {},
     "output_type": "execute_result"
    }
   ],
   "source": [
    "text.strip()  # remove white space from both sides"
   ]
  },
  {
   "cell_type": "code",
   "execution_count": 42,
   "metadata": {},
   "outputs": [
    {
     "name": "stdout",
     "output_type": "stream",
     "text": [
      "found\n"
     ]
    }
   ],
   "source": [
    "s = input(\"enter a string\")\n",
    "if s.upper():\n",
    "    print(\"found\")\n",
    "else: \n",
    "    print(s)"
   ]
  },
  {
   "cell_type": "code",
   "execution_count": 43,
   "metadata": {},
   "outputs": [],
   "source": [
    "names = 'Joe , David , Mark , Tom , Chris , Robert'\n",
    "s = []\n",
    "s.append(names)"
   ]
  },
  {
   "cell_type": "code",
   "execution_count": 44,
   "metadata": {},
   "outputs": [
    {
     "data": {
      "text/plain": [
       "['Joe , David , Mark , Tom , Chris , Robert']"
      ]
     },
     "execution_count": 44,
     "metadata": {},
     "output_type": "execute_result"
    }
   ],
   "source": [
    "s"
   ]
  },
  {
   "cell_type": "code",
   "execution_count": 46,
   "metadata": {},
   "outputs": [
    {
     "data": {
      "text/plain": [
       "'this is some text'"
      ]
     },
     "execution_count": 46,
     "metadata": {},
     "output_type": "execute_result"
    }
   ],
   "source": [
    "text = 'this is some text'\n",
    "text"
   ]
  },
  {
   "cell_type": "code",
   "execution_count": 53,
   "metadata": {},
   "outputs": [
    {
     "name": "stdout",
     "output_type": "stream",
     "text": [
      "_p34_y_____T68h__on404\n",
      "_p34_y_____T68h__on404\n",
      "_p34_y_____T68h__on404\n",
      "_p34_y_____T68h__on404\n",
      "_p34_y_____T68h__on404\n",
      "_p34_y_____T68h__on404\n",
      "_p34_y_____T68h__on404\n",
      "_p34_y_____T68h__on404\n",
      "_p34_y_____T68h__on404\n",
      "_p34_y_____T68h__on404\n"
     ]
    }
   ],
   "source": [
    "text = '%p34@y!*_*!T68h#&on404'\n",
    "p = '!@#$%^&*()'\n",
    "for text in p:\n",
    "    j = j.replace(text ,'_')\n",
    "    print(j)"
   ]
  },
  {
   "cell_type": "code",
   "execution_count": null,
   "metadata": {},
   "outputs": [],
   "source": []
  }
 ],
 "metadata": {
  "interpreter": {
   "hash": "ae305f4dee197bdc0c916b004f5792eca0da2328f3eb5fe8e31b308819fc7eb2"
  },
  "kernelspec": {
   "display_name": "Python 3.10.2 64-bit",
   "language": "python",
   "name": "python3"
  },
  "language_info": {
   "codemirror_mode": {
    "name": "ipython",
    "version": 3
   },
   "file_extension": ".py",
   "mimetype": "text/x-python",
   "name": "python",
   "nbconvert_exporter": "python",
   "pygments_lexer": "ipython3",
   "version": "3.9.5"
  },
  "orig_nbformat": 4
 },
 "nbformat": 4,
 "nbformat_minor": 2
}
