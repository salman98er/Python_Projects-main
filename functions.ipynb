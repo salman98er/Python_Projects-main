{
 "cells": [
  {
   "cell_type": "code",
   "execution_count": 1,
   "metadata": {},
   "outputs": [],
   "source": [
    "def check():\n",
    "    print('this is a simple function')\n",
    "    "
   ]
  },
  {
   "cell_type": "code",
   "execution_count": 2,
   "metadata": {},
   "outputs": [
    {
     "name": "stdout",
     "output_type": "stream",
     "text": [
      "this is a simple function\n"
     ]
    }
   ],
   "source": [
    "check()"
   ]
  },
  {
   "cell_type": "code",
   "execution_count": 4,
   "metadata": {},
   "outputs": [
    {
     "name": "stdout",
     "output_type": "stream",
     "text": [
      "this is a simple function\n",
      "this is a simple function\n",
      "this is a simple function\n"
     ]
    }
   ],
   "source": [
    "check()\n",
    "check()\n",
    "check()"
   ]
  },
  {
   "cell_type": "code",
   "execution_count": 5,
   "metadata": {},
   "outputs": [],
   "source": [
    "def divide(a,b):  #function parameter\n",
    "    ans = a/b\n",
    "    print(ans)"
   ]
  },
  {
   "cell_type": "code",
   "execution_count": 6,
   "metadata": {},
   "outputs": [
    {
     "name": "stdout",
     "output_type": "stream",
     "text": [
      "2.0\n"
     ]
    }
   ],
   "source": [
    "divide(10,5)"
   ]
  },
  {
   "cell_type": "code",
   "execution_count": 7,
   "metadata": {},
   "outputs": [],
   "source": [
    "def divide(a,b):  #function parameter\n",
    "    ans = 10/20\n",
    "    print(ans)"
   ]
  },
  {
   "cell_type": "code",
   "execution_count": 8,
   "metadata": {},
   "outputs": [
    {
     "name": "stdout",
     "output_type": "stream",
     "text": [
      "0.5\n"
     ]
    }
   ],
   "source": [
    "divide(10,5)"
   ]
  },
  {
   "cell_type": "code",
   "execution_count": 10,
   "metadata": {},
   "outputs": [
    {
     "ename": "TypeError",
     "evalue": "divide() takes 2 positional arguments but 3 were given",
     "output_type": "error",
     "traceback": [
      "\u001b[1;31m---------------------------------------------------------------------------\u001b[0m",
      "\u001b[1;31mTypeError\u001b[0m                                 Traceback (most recent call last)",
      "\u001b[1;32mc:\\Users\\Mohd Salman\\Desktop\\Python_Projects-main\\functions.ipynb Cell 8'\u001b[0m in \u001b[0;36m<module>\u001b[1;34m\u001b[0m\n\u001b[1;32m----> <a href='vscode-notebook-cell:/c%3A/Users/Mohd%20Salman/Desktop/Python_Projects-main/functions.ipynb#ch0000007?line=0'>1</a>\u001b[0m divide(\u001b[39m10\u001b[39;49m,\u001b[39m5\u001b[39;49m,\u001b[39m8\u001b[39;49m)\n",
      "\u001b[1;31mTypeError\u001b[0m: divide() takes 2 positional arguments but 3 were given"
     ]
    }
   ],
   "source": [
    "divide(10,5,8)"
   ]
  },
  {
   "cell_type": "code",
   "execution_count": 11,
   "metadata": {},
   "outputs": [
    {
     "ename": "TypeError",
     "evalue": "divide() missing 1 required positional argument: 'b'",
     "output_type": "error",
     "traceback": [
      "\u001b[1;31m---------------------------------------------------------------------------\u001b[0m",
      "\u001b[1;31mTypeError\u001b[0m                                 Traceback (most recent call last)",
      "\u001b[1;32mc:\\Users\\Mohd Salman\\Desktop\\Python_Projects-main\\functions.ipynb Cell 9'\u001b[0m in \u001b[0;36m<module>\u001b[1;34m\u001b[0m\n\u001b[1;32m----> <a href='vscode-notebook-cell:/c%3A/Users/Mohd%20Salman/Desktop/Python_Projects-main/functions.ipynb#ch0000008?line=0'>1</a>\u001b[0m divide(\u001b[39m10\u001b[39;49m)\n",
      "\u001b[1;31mTypeError\u001b[0m: divide() missing 1 required positional argument: 'b'"
     ]
    }
   ],
   "source": [
    "divide(10)"
   ]
  },
  {
   "cell_type": "code",
   "execution_count": 14,
   "metadata": {},
   "outputs": [],
   "source": [
    "def update_salary(old_salary):\n",
    "    new_salary = old_salary+old_salary*.08\n",
    "    print(f'{old_salary}->{new_salary}')\n",
    "def remove_hra(salary):\n",
    "    new_salary = salary - salary*.05\n",
    "    print(f'{salary}-.{new_salary}')\n"
   ]
  },
  {
   "cell_type": "code",
   "execution_count": 15,
   "metadata": {},
   "outputs": [
    {
     "name": "stdout",
     "output_type": "stream",
     "text": [
      "10000->10800.0\n",
      "18000-.17100.0\n"
     ]
    }
   ],
   "source": [
    "update_salary(10000)\n",
    "remove_hra(18000)"
   ]
  },
  {
   "cell_type": "code",
   "execution_count": 16,
   "metadata": {},
   "outputs": [],
   "source": [
    "def total(a,b,c,d,e):\n",
    "    s = a+b+c+d+e\n",
    "    print(s)"
   ]
  },
  {
   "cell_type": "code",
   "execution_count": 17,
   "metadata": {},
   "outputs": [
    {
     "name": "stdout",
     "output_type": "stream",
     "text": [
      "15\n"
     ]
    }
   ],
   "source": [
    "total(1,2,3,4,5)"
   ]
  },
  {
   "cell_type": "markdown",
   "metadata": {},
   "source": [
    "# function with return type and parameters "
   ]
  },
  {
   "cell_type": "code",
   "execution_count": 18,
   "metadata": {},
   "outputs": [],
   "source": [
    "def update_salary(old_salary):\n",
    "    new_salary = old_salary+old_salary*.08\n",
    "    return new_salary\n",
    "def remove_hra(salary):\n",
    "    new_salary = salary - salary*.05\n",
    "    return new_salary"
   ]
  },
  {
   "cell_type": "code",
   "execution_count": 19,
   "metadata": {},
   "outputs": [
    {
     "name": "stdout",
     "output_type": "stream",
     "text": [
      "10800.0\n",
      "9500.0\n"
     ]
    }
   ],
   "source": [
    "print(update_salary(10000))\n",
    "print(remove_hra(10000))"
   ]
  },
  {
   "cell_type": "code",
   "execution_count": 20,
   "metadata": {},
   "outputs": [
    {
     "name": "stdout",
     "output_type": "stream",
     "text": [
      "21600.0\n"
     ]
    }
   ],
   "source": [
    "salary = update_salary(20000)\n",
    "print(salary)"
   ]
  },
  {
   "cell_type": "code",
   "execution_count": 21,
   "metadata": {},
   "outputs": [
    {
     "data": {
      "text/plain": [
       "'APPLEBANANACHERRY'"
      ]
     },
     "execution_count": 21,
     "metadata": {},
     "output_type": "execute_result"
    }
   ],
   "source": [
    "x = ['apple','banana','cherry']\n",
    "''.join(x).upper()               #chaining function"
   ]
  },
  {
   "cell_type": "code",
   "execution_count": 22,
   "metadata": {},
   "outputs": [
    {
     "data": {
      "text/plain": [
       "15800.0"
      ]
     },
     "execution_count": 22,
     "metadata": {},
     "output_type": "execute_result"
    }
   ],
   "source": [
    "update_salary(10000) + 5000\n"
   ]
  },
  {
   "cell_type": "code",
   "execution_count": 24,
   "metadata": {},
   "outputs": [
    {
     "data": {
      "text/plain": [
       "15390.0"
      ]
     },
     "execution_count": 24,
     "metadata": {},
     "output_type": "execute_result"
    }
   ],
   "source": [
    "remove_hra(update_salary(15000))"
   ]
  },
  {
   "cell_type": "markdown",
   "metadata": {},
   "source": [
    "# wap to return true or false , if a no. is even or not\n",
    "# waf to remove all vowels from a sentence given in a function\n",
    "# waf to return the second highest value from a list given as parameter"
   ]
  },
  {
   "cell_type": "code",
   "execution_count": 25,
   "metadata": {},
   "outputs": [],
   "source": [
    "def value(a):\n",
    "    if a%2==0:\n",
    "        return(True)\n",
    "    else:\n",
    "        return(False)"
   ]
  },
  {
   "cell_type": "code",
   "execution_count": 26,
   "metadata": {},
   "outputs": [
    {
     "data": {
      "text/plain": [
       "True"
      ]
     },
     "execution_count": 26,
     "metadata": {},
     "output_type": "execute_result"
    }
   ],
   "source": [
    "value(4)"
   ]
  },
  {
   "cell_type": "code",
   "execution_count": 1,
   "metadata": {},
   "outputs": [],
   "source": [
    "def vowed(f):\n",
    "    s = f\n",
    "    \n",
    "    for char  in 'aeiouAEIOU':\n",
    "       s=  s.replace(char,' ')\n",
    "    return s"
   ]
  },
  {
   "cell_type": "code",
   "execution_count": 2,
   "metadata": {},
   "outputs": [
    {
     "data": {
      "text/plain": [
       "'th r   s  n str ng'"
      ]
     },
     "execution_count": 2,
     "metadata": {},
     "output_type": "execute_result"
    }
   ],
   "source": [
    "f = input('enter ur string')\n",
    "vowed(f)"
   ]
  },
  {
   "cell_type": "code",
   "execution_count": 1,
   "metadata": {},
   "outputs": [],
   "source": [
    "def high(s):\n",
    "    x = s\n",
    "    x.sort()\n",
    "    return x[-2]"
   ]
  },
  {
   "cell_type": "code",
   "execution_count": 2,
   "metadata": {},
   "outputs": [
    {
     "name": "stdout",
     "output_type": "stream",
     "text": [
      "56\n"
     ]
    }
   ],
   "source": [
    "s = [23,24,56,86]\n",
    "print(high(s))"
   ]
  },
  {
   "cell_type": "code",
   "execution_count": 22,
   "metadata": {},
   "outputs": [],
   "source": [
    "def is_even(number):\n",
    "    if number%2 == 0:\n",
    "        return True\n",
    "    return False\n",
    "def remove_vowels(sentence):\n",
    " for v in 'aeiouAEIOU':\n",
    "    sentence = sentence.replace(v,' ')\n",
    " return sentence\n",
    "def max_2(num_list):\n",
    "    num_list.sort()\n",
    "    return num_list[-2]"
   ]
  },
  {
   "cell_type": "code",
   "execution_count": 23,
   "metadata": {},
   "outputs": [
    {
     "name": "stdout",
     "output_type": "stream",
     "text": [
      "False\n",
      "w lc m  t  c d ng f nct  n  n pyth n\n",
      "66\n"
     ]
    }
   ],
   "source": [
    "print(is_even(121))\n",
    "print(remove_vowels('welcome to coding function in python'))\n",
    "print(max_2([22,44,55,66,99]))"
   ]
  },
  {
   "cell_type": "code",
   "execution_count": 24,
   "metadata": {},
   "outputs": [],
   "source": [
    "def eq_1(x,y,z):\n",
    "    return x**y-y**z"
   ]
  },
  {
   "cell_type": "code",
   "execution_count": 31,
   "metadata": {},
   "outputs": [
    {
     "name": "stdout",
     "output_type": "stream",
     "text": [
      "-78093\n",
      "-10077632\n",
      "14680064\n",
      "129434759\n"
     ]
    }
   ],
   "source": [
    "print(eq_1(2,5,7))# normal argument\n",
    "print(eq_1(x=2,y=6,z=9)) # keyword argument/ named argument\n",
    "print(eq_1(x=8,y=8,z=7))# keyword argument/ named argument\n",
    "print(eq_1(8,y=9,z=7))# keyword argument/ named argument\n",
    "\n"
   ]
  },
  {
   "cell_type": "code",
   "execution_count": 29,
   "metadata": {},
   "outputs": [
    {
     "name": "stdout",
     "output_type": "stream",
     "text": [
      "helo\n",
      "is\n",
      "not\n",
      "hello\n"
     ]
    }
   ],
   "source": [
    "print('helo','is','not','hello', sep = '\\n')"
   ]
  },
  {
   "cell_type": "code",
   "execution_count": 30,
   "metadata": {},
   "outputs": [
    {
     "data": {
      "text/plain": [
       "['we are n', 't g', 'ing t', ' st', 'p writing']"
      ]
     },
     "execution_count": 30,
     "metadata": {},
     "output_type": "execute_result"
    }
   ],
   "source": [
    "'we are not going to stop writing'.split('o')"
   ]
  },
  {
   "cell_type": "code",
   "execution_count": 33,
   "metadata": {},
   "outputs": [],
   "source": [
    "def add4(x,y,z=0,z2=0):\n",
    "    return x+y+z+z2"
   ]
  },
  {
   "cell_type": "code",
   "execution_count": 35,
   "metadata": {},
   "outputs": [
    {
     "name": "stdout",
     "output_type": "stream",
     "text": [
      "10\n",
      "3\n",
      "10\n",
      "28\n"
     ]
    }
   ],
   "source": [
    "print(add4(1,2,3,4))\n",
    "print(add4(1,2))\n",
    "print(add4(1,2,z=3,z2=4))\n",
    "print(add4(1,2,z2=13,z=12))"
   ]
  },
  {
   "cell_type": "code",
   "execution_count": 36,
   "metadata": {},
   "outputs": [],
   "source": [
    "def count_zeros(*nums):\n",
    "    if len(nums)>0:\n",
    "        return nums.count(0)"
   ]
  },
  {
   "cell_type": "code",
   "execution_count": 40,
   "metadata": {},
   "outputs": [
    {
     "name": "stdout",
     "output_type": "stream",
     "text": [
      "None\n",
      "2\n",
      "5\n"
     ]
    }
   ],
   "source": [
    "print(count_zeros())\n",
    "print(count_zeros(1,2,34,0,9,7,0,))\n",
    "print(count_zeros(0,9,0,0,0,0))"
   ]
  },
  {
   "cell_type": "code",
   "execution_count": 46,
   "metadata": {},
   "outputs": [],
   "source": [
    "def adder(*args): # *  means unlimited arguments\n",
    "    if len(args)>0:\n",
    "        return sum(args)\n",
    "    return 0"
   ]
  },
  {
   "cell_type": "code",
   "execution_count": 45,
   "metadata": {},
   "outputs": [
    {
     "name": "stdout",
     "output_type": "stream",
     "text": [
      "0\n",
      "69\n"
     ]
    }
   ],
   "source": [
    "print(adder())\n",
    "print(adder(1,23,45))"
   ]
  },
  {
   "cell_type": "code",
   "execution_count": null,
   "metadata": {},
   "outputs": [],
   "source": []
  }
 ],
 "metadata": {
  "interpreter": {
   "hash": "3b46d90f51efc9954aac783a2eeafaa32071d5f42b6ad50b655f1bb58039c82c"
  },
  "kernelspec": {
   "display_name": "Python 3.9.5 ('base')",
   "language": "python",
   "name": "python3"
  },
  "language_info": {
   "codemirror_mode": {
    "name": "ipython",
    "version": 3
   },
   "file_extension": ".py",
   "mimetype": "text/x-python",
   "name": "python",
   "nbconvert_exporter": "python",
   "pygments_lexer": "ipython3",
   "version": "3.9.5"
  },
  "orig_nbformat": 4
 },
 "nbformat": 4,
 "nbformat_minor": 2
}
